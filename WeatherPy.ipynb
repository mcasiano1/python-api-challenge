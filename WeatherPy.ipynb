{
 "cells": [
  {
   "cell_type": "markdown",
   "metadata": {},
   "source": [
    "# WeatherPy\n",
    "----\n",
    "\n",
    "#### Note\n",
    "* Instructions have been included for each segment. You do not have to follow them exactly, but they are included to help you think through the steps."
   ]
  },
  {
   "cell_type": "code",
   "execution_count": 1,
   "metadata": {},
   "outputs": [
    {
     "name": "stdout",
     "output_type": "stream",
     "text": [
      "Requirement already satisfied: citipy in c:\\users\\myc\\anaconda3\\envs\\pythondata\\lib\\site-packages (0.0.5)\n",
      "Requirement already satisfied: kdtree>=0.12 in c:\\users\\myc\\anaconda3\\envs\\pythondata\\lib\\site-packages (from citipy) (0.16)\n",
      "Note: you may need to restart the kernel to use updated packages.\n"
     ]
    }
   ],
   "source": [
    "pip install citipy"
   ]
  },
  {
   "cell_type": "code",
   "execution_count": 2,
   "metadata": {
    "scrolled": true
   },
   "outputs": [],
   "source": [
    "# Dependencies and Setup\n",
    "import json\n",
    "import matplotlib.pyplot as plt\n",
    "import pandas as pd\n",
    "import numpy as np\n",
    "import requests\n",
    "import time\n",
    "import datetime\n",
    "from scipy.stats import linregress\n",
    "\n",
    "# Import API key\n",
    "from api_keys import weather_api_key\n",
    "from api_keys import g_key\n",
    "\n",
    "# Incorporated citipy to determine city based on latitude and longitude\n",
    "from citipy import citipy\n",
    "\n",
    "# Output File (CSV)\n",
    "output_data_file = \"output_data/cities.csv\"\n",
    "\n",
    "# Range of latitudes and longitudes\n",
    "lat_range = (-90, 90)\n",
    "lng_range = (-180, 180)"
   ]
  },
  {
   "cell_type": "markdown",
   "metadata": {},
   "source": [
    "## Generate Cities List"
   ]
  },
  {
   "cell_type": "code",
   "execution_count": 3,
   "metadata": {},
   "outputs": [
    {
     "data": {
      "text/plain": [
       "603"
      ]
     },
     "execution_count": 3,
     "metadata": {},
     "output_type": "execute_result"
    }
   ],
   "source": [
    "# List for holding lat_lngs and cities\n",
    "lat_lngs = []\n",
    "cities = []\n",
    "\n",
    "# Create a set of random lat and lng combinations\n",
    "lats = np.random.uniform(low=-90.000, high=90.000, size=1500)\n",
    "lngs = np.random.uniform(low=-180.00, high=180.000, size=1500)\n",
    "lat_lngs = zip(lats, lngs)\n",
    "\n",
    "# Identify nearest city for each lat, lng combination\n",
    "for lat_lng in lat_lngs:\n",
    "    city = citipy.nearest_city(lat_lng[0], lat_lng[1]).city_name\n",
    "    \n",
    "    # If the city is unique, then add it to a our cities list\n",
    "    if city not in cities:\n",
    "        cities.append(city)\n",
    "\n",
    "# Print the city count to confirm sufficient count\n",
    "len(cities)"
   ]
  },
  {
   "cell_type": "markdown",
   "metadata": {},
   "source": [
    "### Perform API Calls\n",
    "* Perform a weather check on each city using a series of successive API calls.\n",
    "* Include a print log of each city as it'sbeing processed (with the city number and city name).\n"
   ]
  },
  {
   "cell_type": "code",
   "execution_count": 4,
   "metadata": {
    "scrolled": true
   },
   "outputs": [
    {
     "name": "stdout",
     "output_type": "stream",
     "text": [
      "Starting Data Retrieval\n",
      "________________________\n",
      "Processing Record 1 of Set 1 : cockburn town\n",
      "Processing Record 2 of Set 1 : iqaluit\n",
      "Processing Record 3 of Set 1 : acaponeta\n",
      "Processing Record 4 of Set 1 : magadan\n",
      "Processing Record 5 of Set 1 : cabo san lucas\n",
      "Processing Record 6 of Set 1 : lebu\n",
      "Processing Record 7 of Set 1 : bluff\n",
      "City not found. Skipping... amderma\n",
      "Processing Record 8 of Set 1 : cedral\n",
      "Processing Record 9 of Set 1 : klaksvik\n",
      "City not found. Skipping... taolanaro\n",
      "Processing Record 10 of Set 1 : hobart\n",
      "Processing Record 11 of Set 1 : clyde river\n",
      "Processing Record 12 of Set 1 : qaqortoq\n",
      "Processing Record 13 of Set 1 : mahebourg\n",
      "Processing Record 14 of Set 1 : avarua\n",
      "Processing Record 15 of Set 1 : punta arenas\n",
      "Processing Record 16 of Set 1 : kahului\n",
      "Processing Record 17 of Set 1 : nikolskoye\n",
      "City not found. Skipping... sentyabrskiy\n",
      "Processing Record 18 of Set 1 : moree\n",
      "Processing Record 19 of Set 1 : riyadh\n",
      "City not found. Skipping... nizhneyansk\n",
      "Processing Record 20 of Set 1 : kapaa\n",
      "Processing Record 21 of Set 1 : georgetown\n",
      "Processing Record 22 of Set 1 : arklow\n",
      "City not found. Skipping... barentsburg\n",
      "Processing Record 23 of Set 1 : druzhba\n",
      "Processing Record 24 of Set 1 : rikitea\n",
      "Processing Record 25 of Set 1 : jamestown\n",
      "City not found. Skipping... warqla\n",
      "Processing Record 26 of Set 1 : tuktoyaktuk\n",
      "Processing Record 27 of Set 1 : tiksi\n",
      "Processing Record 28 of Set 1 : airai\n",
      "Processing Record 29 of Set 1 : bredasdorp\n",
      "Processing Record 30 of Set 1 : mataura\n",
      "Processing Record 31 of Set 1 : chuy\n",
      "Processing Record 32 of Set 1 : qaanaaq\n",
      "Processing Record 33 of Set 1 : redlands\n",
      "Processing Record 34 of Set 1 : myskhako\n",
      "Processing Record 35 of Set 1 : puerto ayora\n",
      "Processing Record 36 of Set 1 : saint-philippe\n",
      "Processing Record 37 of Set 1 : natal\n",
      "Processing Record 38 of Set 1 : hilo\n",
      "Processing Record 39 of Set 1 : ushuaia\n",
      "Processing Record 40 of Set 1 : chokurdakh\n",
      "Processing Record 41 of Set 1 : longyearbyen\n",
      "Processing Record 42 of Set 1 : caravelas\n",
      "Processing Record 43 of Set 1 : buin\n",
      "Processing Record 44 of Set 1 : abha\n",
      "Processing Record 45 of Set 1 : port lincoln\n",
      "City not found. Skipping... umzimvubu\n",
      "City not found. Skipping... marcona\n",
      "Processing Record 46 of Set 1 : kavieng\n",
      "Processing Record 47 of Set 1 : new norfolk\n",
      "Processing Record 48 of Set 1 : andenes\n",
      "Processing Record 49 of Set 1 : istanbul\n",
      "Processing Record 50 of Set 1 : goroka\n",
      "Processing Record 0 of Set 2 : tasiilaq\n",
      "Processing Record 1 of Set 2 : port alfred\n",
      "Processing Record 2 of Set 2 : inyonga\n",
      "Processing Record 3 of Set 2 : albany\n",
      "Processing Record 4 of Set 2 : victoria\n",
      "Processing Record 5 of Set 2 : busselton\n",
      "Processing Record 6 of Set 2 : kaitangata\n",
      "City not found. Skipping... saleaula\n",
      "Processing Record 7 of Set 2 : pokhara\n",
      "Processing Record 8 of Set 2 : srednekolymsk\n",
      "Processing Record 9 of Set 2 : okoneshnikovo\n",
      "Processing Record 10 of Set 2 : boyabat\n",
      "Processing Record 11 of Set 2 : barrow\n",
      "Processing Record 12 of Set 2 : qui nhon\n",
      "Processing Record 13 of Set 2 : lubao\n",
      "Processing Record 14 of Set 2 : tuatapere\n",
      "Processing Record 15 of Set 2 : east london\n",
      "Processing Record 16 of Set 2 : granadilla de abona\n",
      "Processing Record 17 of Set 2 : salalah\n",
      "Processing Record 18 of Set 2 : villazon\n",
      "Processing Record 19 of Set 2 : havelock\n",
      "Processing Record 20 of Set 2 : atuona\n",
      "Processing Record 21 of Set 2 : pangkalanbuun\n",
      "City not found. Skipping... artyk\n",
      "Processing Record 22 of Set 2 : omsukchan\n",
      "Processing Record 23 of Set 2 : marawi\n",
      "Processing Record 24 of Set 2 : yueyang\n",
      "Processing Record 25 of Set 2 : dakoro\n",
      "Processing Record 26 of Set 2 : paragominas\n",
      "Processing Record 27 of Set 2 : deputatskiy\n",
      "Processing Record 28 of Set 2 : duluth\n",
      "Processing Record 29 of Set 2 : bethel\n",
      "Processing Record 30 of Set 2 : kang\n",
      "Processing Record 31 of Set 2 : abonnema\n",
      "Processing Record 32 of Set 2 : codrington\n",
      "Processing Record 33 of Set 2 : koygorodok\n",
      "Processing Record 34 of Set 2 : acapulco\n",
      "Processing Record 35 of Set 2 : luderitz\n",
      "Processing Record 36 of Set 2 : santa eulalia\n",
      "Processing Record 37 of Set 2 : belmonte\n",
      "Processing Record 38 of Set 2 : heihe\n",
      "City not found. Skipping... cockburn harbour\n",
      "City not found. Skipping... kuche\n",
      "Processing Record 39 of Set 2 : mezhdurechensk\n",
      "Processing Record 40 of Set 2 : isangel\n",
      "Processing Record 41 of Set 2 : matamoros\n",
      "Processing Record 42 of Set 2 : oceanside\n",
      "Processing Record 43 of Set 2 : mayo\n",
      "Processing Record 44 of Set 2 : santa rosalia\n",
      "Processing Record 45 of Set 2 : tonantins\n",
      "Processing Record 46 of Set 2 : ewo\n",
      "Processing Record 47 of Set 2 : haines city\n",
      "City not found. Skipping... thilogne\n",
      "Processing Record 48 of Set 2 : innisfail\n",
      "Processing Record 49 of Set 2 : esperance\n",
      "Processing Record 50 of Set 2 : lloydminster\n",
      "Processing Record 0 of Set 3 : norman wells\n",
      "Processing Record 1 of Set 3 : tomesti\n",
      "Processing Record 2 of Set 3 : ajdabiya\n",
      "Processing Record 3 of Set 3 : nishihara\n",
      "Processing Record 4 of Set 3 : puerto asis\n",
      "Processing Record 5 of Set 3 : chenghai\n",
      "Processing Record 6 of Set 3 : hit\n",
      "Processing Record 7 of Set 3 : malanje\n",
      "Processing Record 8 of Set 3 : ancud\n",
      "City not found. Skipping... vaitupu\n",
      "Processing Record 9 of Set 3 : thompson\n",
      "Processing Record 10 of Set 3 : alice springs\n",
      "Processing Record 11 of Set 3 : kandrian\n",
      "Processing Record 12 of Set 3 : hermanus\n",
      "Processing Record 13 of Set 3 : kabalo\n",
      "Processing Record 14 of Set 3 : ribeira grande\n",
      "Processing Record 15 of Set 3 : port blair\n",
      "Processing Record 16 of Set 3 : naze\n",
      "Processing Record 17 of Set 3 : bengkulu\n",
      "Processing Record 18 of Set 3 : westport\n",
      "Processing Record 19 of Set 3 : kloulklubed\n",
      "Processing Record 20 of Set 3 : ixtapa\n",
      "Processing Record 21 of Set 3 : port hawkesbury\n",
      "Processing Record 22 of Set 3 : prenzlau\n",
      "Processing Record 23 of Set 3 : vallenar\n",
      "Processing Record 24 of Set 3 : vaini\n",
      "Processing Record 25 of Set 3 : egvekinot\n",
      "Processing Record 26 of Set 3 : praya\n",
      "Processing Record 27 of Set 3 : comodoro rivadavia\n",
      "City not found. Skipping... haibowan\n",
      "Processing Record 28 of Set 3 : kokopo\n",
      "City not found. Skipping... belushya guba\n",
      "City not found. Skipping... maloshuyka\n",
      "Processing Record 29 of Set 3 : turkistan\n",
      "Processing Record 30 of Set 3 : trairi\n",
      "Processing Record 31 of Set 3 : constitucion\n",
      "Processing Record 32 of Set 3 : abu dhabi\n",
      "Processing Record 33 of Set 3 : bom jesus do itabapoana\n",
      "City not found. Skipping... karakendzha\n",
      "Processing Record 34 of Set 3 : hambantota\n",
      "Processing Record 35 of Set 3 : adamas\n",
      "Processing Record 36 of Set 3 : ayaviri\n",
      "Processing Record 37 of Set 3 : surt\n",
      "Processing Record 38 of Set 3 : brae\n",
      "Processing Record 39 of Set 3 : seoul\n",
      "Processing Record 40 of Set 3 : hobyo\n",
      "Processing Record 41 of Set 3 : cape town\n",
      "Processing Record 42 of Set 3 : prado\n",
      "Processing Record 43 of Set 3 : harper\n",
      "Processing Record 44 of Set 3 : tarakan\n",
      "Processing Record 45 of Set 3 : maragogi\n",
      "Processing Record 46 of Set 3 : beringovskiy\n",
      "Processing Record 47 of Set 3 : half moon bay\n",
      "Processing Record 48 of Set 3 : narsaq\n",
      "Processing Record 49 of Set 3 : souillac\n",
      "Processing Record 50 of Set 3 : llangefni\n",
      "City not found. Skipping... grand river south east\n",
      "Processing Record 0 of Set 4 : bilibino\n",
      "Processing Record 1 of Set 4 : khatanga\n",
      "Processing Record 2 of Set 4 : sovetskiy\n",
      "Processing Record 3 of Set 4 : rio gallegos\n",
      "Processing Record 4 of Set 4 : linxia\n",
      "Processing Record 5 of Set 4 : opuwo\n",
      "Processing Record 6 of Set 4 : talnakh\n",
      "Processing Record 7 of Set 4 : hamilton\n",
      "Processing Record 8 of Set 4 : oxford\n",
      "Processing Record 9 of Set 4 : mar del plata\n",
      "Processing Record 10 of Set 4 : cayenne\n",
      "Processing Record 11 of Set 4 : kodiak\n",
      "Processing Record 12 of Set 4 : upernavik\n",
      "Processing Record 13 of Set 4 : san jose de guanipa\n",
      "Processing Record 14 of Set 4 : port elizabeth\n",
      "Processing Record 15 of Set 4 : lasa\n",
      "Processing Record 16 of Set 4 : dingle\n",
      "City not found. Skipping... aflu\n",
      "Processing Record 17 of Set 4 : mpika\n",
      "Processing Record 18 of Set 4 : san cristobal\n",
      "Processing Record 19 of Set 4 : alofi\n",
      "Processing Record 20 of Set 4 : santa cruz\n",
      "Processing Record 21 of Set 4 : sioux lookout\n",
      "Processing Record 22 of Set 4 : springbok\n",
      "Processing Record 23 of Set 4 : yellowknife\n",
      "City not found. Skipping... louisbourg\n",
      "Processing Record 24 of Set 4 : leh\n",
      "City not found. Skipping... bargal\n",
      "Processing Record 25 of Set 4 : mangrol\n",
      "Processing Record 26 of Set 4 : saint george\n"
     ]
    },
    {
     "name": "stdout",
     "output_type": "stream",
     "text": [
      "Processing Record 27 of Set 4 : alvaraes\n",
      "Processing Record 28 of Set 4 : husavik\n",
      "Processing Record 29 of Set 4 : pohorelice\n",
      "City not found. Skipping... samalaeulu\n",
      "Processing Record 30 of Set 4 : coihaique\n",
      "Processing Record 31 of Set 4 : kysyl-syr\n",
      "City not found. Skipping... tsihombe\n",
      "Processing Record 32 of Set 4 : chifeng\n",
      "Processing Record 33 of Set 4 : zhezkazgan\n",
      "Processing Record 34 of Set 4 : khymchyn\n",
      "Processing Record 35 of Set 4 : tobane\n",
      "Processing Record 36 of Set 4 : garissa\n",
      "Processing Record 37 of Set 4 : sechura\n",
      "Processing Record 38 of Set 4 : sitka\n",
      "Processing Record 39 of Set 4 : poya\n",
      "Processing Record 40 of Set 4 : canala\n",
      "Processing Record 41 of Set 4 : cerrito\n",
      "Processing Record 42 of Set 4 : banjar\n",
      "Processing Record 43 of Set 4 : port macquarie\n",
      "Processing Record 44 of Set 4 : carnarvon\n",
      "Processing Record 45 of Set 4 : hami\n",
      "Processing Record 46 of Set 4 : butaritari\n",
      "City not found. Skipping... attawapiskat\n",
      "Processing Record 47 of Set 4 : hithadhoo\n",
      "Processing Record 48 of Set 4 : powell river\n",
      "Processing Record 49 of Set 4 : bambous virieux\n",
      "Processing Record 50 of Set 4 : dikson\n",
      "Processing Record 0 of Set 5 : asau\n",
      "Processing Record 1 of Set 5 : arraial do cabo\n",
      "Processing Record 2 of Set 5 : cherskiy\n",
      "City not found. Skipping... uwayl\n",
      "Processing Record 3 of Set 5 : palasa\n",
      "Processing Record 4 of Set 5 : castro\n",
      "Processing Record 5 of Set 5 : fairbanks\n",
      "Processing Record 6 of Set 5 : porto novo\n",
      "Processing Record 7 of Set 5 : olafsvik\n",
      "Processing Record 8 of Set 5 : saskylakh\n",
      "Processing Record 9 of Set 5 : henties bay\n",
      "Processing Record 10 of Set 5 : kisangani\n",
      "Processing Record 11 of Set 5 : cidreira\n",
      "Processing Record 12 of Set 5 : provideniya\n",
      "Processing Record 13 of Set 5 : luang prabang\n",
      "Processing Record 14 of Set 5 : yarada\n",
      "Processing Record 15 of Set 5 : boddam\n",
      "Processing Record 16 of Set 5 : la palma\n",
      "Processing Record 17 of Set 5 : maxixe\n",
      "Processing Record 18 of Set 5 : haines junction\n",
      "Processing Record 19 of Set 5 : healdsburg\n",
      "Processing Record 20 of Set 5 : kortkeros\n",
      "Processing Record 21 of Set 5 : lagoa\n",
      "Processing Record 22 of Set 5 : oktyabrskiy\n",
      "Processing Record 23 of Set 5 : sosva\n",
      "Processing Record 24 of Set 5 : kapuskasing\n",
      "Processing Record 25 of Set 5 : nurlat\n",
      "Processing Record 26 of Set 5 : bintulu\n",
      "Processing Record 27 of Set 5 : vilyuysk\n",
      "Processing Record 28 of Set 5 : samarai\n",
      "City not found. Skipping... toliary\n",
      "Processing Record 29 of Set 5 : mizdah\n",
      "Processing Record 30 of Set 5 : san carlos\n",
      "Processing Record 31 of Set 5 : geraldton\n",
      "Processing Record 32 of Set 5 : faanui\n",
      "Processing Record 33 of Set 5 : matara\n",
      "Processing Record 34 of Set 5 : araguacu\n",
      "Processing Record 35 of Set 5 : yaan\n",
      "Processing Record 36 of Set 5 : atambua\n",
      "Processing Record 37 of Set 5 : chita\n",
      "Processing Record 38 of Set 5 : pochutla\n",
      "Processing Record 39 of Set 5 : cubuk\n",
      "Processing Record 40 of Set 5 : bonthe\n",
      "Processing Record 41 of Set 5 : leshukonskoye\n",
      "City not found. Skipping... bokspits\n",
      "Processing Record 42 of Set 5 : general roca\n",
      "Processing Record 43 of Set 5 : palghar\n",
      "Processing Record 44 of Set 5 : la ronge\n",
      "Processing Record 45 of Set 5 : melo\n",
      "City not found. Skipping... tumannyy\n",
      "Processing Record 46 of Set 5 : havoysund\n",
      "Processing Record 47 of Set 5 : vila velha\n",
      "Processing Record 48 of Set 5 : san rafael\n",
      "Processing Record 49 of Set 5 : caconda\n",
      "City not found. Skipping... mys shmidta\n",
      "Processing Record 50 of Set 5 : bogorodskoye\n",
      "Processing Record 0 of Set 6 : richards bay\n",
      "Processing Record 1 of Set 6 : twentynine palms\n",
      "Processing Record 2 of Set 6 : mao\n",
      "Processing Record 3 of Set 6 : shimoda\n",
      "Processing Record 4 of Set 6 : sembe\n",
      "Processing Record 5 of Set 6 : loudeac\n",
      "Processing Record 6 of Set 6 : saint anthony\n",
      "Processing Record 7 of Set 6 : whitecourt\n",
      "City not found. Skipping... illoqqortoormiut\n",
      "Processing Record 8 of Set 6 : vao\n",
      "Processing Record 9 of Set 6 : northam\n",
      "Processing Record 10 of Set 6 : sebinkarahisar\n",
      "City not found. Skipping... palabuhanratu\n",
      "Processing Record 11 of Set 6 : jawhar\n",
      "City not found. Skipping... fulitun\n",
      "Processing Record 12 of Set 6 : paamiut\n",
      "Processing Record 13 of Set 6 : masingbi\n",
      "Processing Record 14 of Set 6 : touros\n",
      "Processing Record 15 of Set 6 : coahuayana\n",
      "Processing Record 16 of Set 6 : masallatah\n",
      "Processing Record 17 of Set 6 : pervomayskoye\n",
      "Processing Record 18 of Set 6 : honiara\n",
      "Processing Record 19 of Set 6 : eldama ravine\n",
      "Processing Record 20 of Set 6 : illapel\n",
      "Processing Record 21 of Set 6 : ati\n",
      "Processing Record 22 of Set 6 : keti bandar\n",
      "Processing Record 23 of Set 6 : victoria point\n",
      "Processing Record 24 of Set 6 : taoudenni\n",
      "City not found. Skipping... sinkat\n",
      "City not found. Skipping... duz\n",
      "Processing Record 25 of Set 6 : ostrovnoy\n",
      "Processing Record 26 of Set 6 : avera\n",
      "Processing Record 27 of Set 6 : mukhen\n",
      "Processing Record 28 of Set 6 : huarmey\n",
      "Processing Record 29 of Set 6 : turukhansk\n",
      "Processing Record 30 of Set 6 : tilichiki\n",
      "Processing Record 31 of Set 6 : skibotn\n",
      "Processing Record 32 of Set 6 : coquimbo\n",
      "Processing Record 33 of Set 6 : muli\n",
      "Processing Record 34 of Set 6 : euclides da cunha\n",
      "Processing Record 35 of Set 6 : tafalla\n",
      "Processing Record 36 of Set 6 : rio grande\n",
      "Processing Record 37 of Set 6 : patan\n",
      "Processing Record 38 of Set 6 : ranong\n",
      "Processing Record 39 of Set 6 : amurzet\n",
      "Processing Record 40 of Set 6 : uvat\n",
      "Processing Record 41 of Set 6 : petrivka\n",
      "Processing Record 42 of Set 6 : imbituba\n",
      "City not found. Skipping... mahadday weyne\n",
      "Processing Record 43 of Set 6 : meadow lake\n",
      "Processing Record 44 of Set 6 : biloela\n",
      "Processing Record 45 of Set 6 : urucara\n",
      "Processing Record 46 of Set 6 : nouadhibou\n",
      "Processing Record 47 of Set 6 : salinopolis\n",
      "Processing Record 48 of Set 6 : gao\n",
      "Processing Record 49 of Set 6 : oranjemund\n",
      "Processing Record 50 of Set 6 : marovoay\n",
      "Processing Record 0 of Set 7 : lorena\n",
      "Processing Record 1 of Set 7 : winslow\n",
      "Processing Record 2 of Set 7 : bolgar\n",
      "Processing Record 3 of Set 7 : alta floresta\n",
      "Processing Record 4 of Set 7 : luanda\n",
      "Processing Record 5 of Set 7 : merzifon\n",
      "Processing Record 6 of Set 7 : tokmak\n",
      "Processing Record 7 of Set 7 : grand gaube\n",
      "Processing Record 8 of Set 7 : san vicente\n",
      "Processing Record 9 of Set 7 : alberton\n",
      "Processing Record 10 of Set 7 : muskogee\n",
      "Processing Record 11 of Set 7 : traverse city\n",
      "City not found. Skipping... paradwip\n",
      "Processing Record 12 of Set 7 : lucapa\n",
      "Processing Record 13 of Set 7 : halifax\n",
      "Processing Record 14 of Set 7 : sobolevo\n",
      "Processing Record 15 of Set 7 : port hardy\n",
      "Processing Record 16 of Set 7 : hofn\n",
      "Processing Record 17 of Set 7 : sibu\n",
      "Processing Record 18 of Set 7 : pevek\n",
      "Processing Record 19 of Set 7 : miri\n",
      "Processing Record 20 of Set 7 : pachelma\n",
      "Processing Record 21 of Set 7 : saint-georges\n",
      "Processing Record 22 of Set 7 : kaeo\n",
      "Processing Record 23 of Set 7 : lakes entrance\n",
      "Processing Record 24 of Set 7 : zabaykalsk\n",
      "Processing Record 25 of Set 7 : port-cartier\n",
      "Processing Record 26 of Set 7 : karlshamn\n",
      "Processing Record 27 of Set 7 : parangan\n",
      "Processing Record 28 of Set 7 : shitanjing\n",
      "Processing Record 29 of Set 7 : mount gambier\n",
      "Processing Record 30 of Set 7 : yining\n",
      "City not found. Skipping... nguiu\n",
      "Processing Record 31 of Set 7 : ugoofaaru\n",
      "Processing Record 32 of Set 7 : kamiiso\n",
      "Processing Record 33 of Set 7 : kununurra\n",
      "Processing Record 34 of Set 7 : praia\n",
      "Processing Record 35 of Set 7 : flinders\n",
      "Processing Record 36 of Set 7 : katsuura\n",
      "Processing Record 37 of Set 7 : yar-sale\n",
      "Processing Record 38 of Set 7 : nenagh\n",
      "Processing Record 39 of Set 7 : grindavik\n",
      "Processing Record 40 of Set 7 : meulaboh\n",
      "Processing Record 41 of Set 7 : severo-kurilsk\n",
      "Processing Record 42 of Set 7 : puerto escondido\n",
      "Processing Record 43 of Set 7 : pocone\n",
      "Processing Record 44 of Set 7 : mayumba\n",
      "City not found. Skipping... yanchukan\n",
      "Processing Record 45 of Set 7 : woodward\n",
      "Processing Record 46 of Set 7 : tolaga bay\n",
      "Processing Record 47 of Set 7 : margate\n",
      "City not found. Skipping... stryy\n",
      "Processing Record 48 of Set 7 : portland\n",
      "Processing Record 49 of Set 7 : zaozerne\n",
      "Processing Record 50 of Set 7 : gazanjyk\n",
      "Processing Record 0 of Set 8 : barra dos coqueiros\n",
      "Processing Record 1 of Set 8 : brooks\n",
      "Processing Record 2 of Set 8 : romuli\n",
      "Processing Record 3 of Set 8 : xining\n",
      "Processing Record 4 of Set 8 : teya\n",
      "Processing Record 5 of Set 8 : aklavik\n",
      "Processing Record 6 of Set 8 : abyek\n"
     ]
    },
    {
     "name": "stdout",
     "output_type": "stream",
     "text": [
      "Processing Record 7 of Set 8 : ghanzi\n",
      "Processing Record 8 of Set 8 : santa fe\n",
      "Processing Record 9 of Set 8 : faya\n",
      "Processing Record 10 of Set 8 : carauari\n",
      "Processing Record 11 of Set 8 : wewak\n",
      "Processing Record 12 of Set 8 : te anau\n",
      "Processing Record 13 of Set 8 : finschhafen\n",
      "Processing Record 14 of Set 8 : altay\n",
      "Processing Record 15 of Set 8 : dearborn heights\n",
      "Processing Record 16 of Set 8 : kruisfontein\n",
      "Processing Record 17 of Set 8 : carballo\n",
      "Processing Record 18 of Set 8 : saldanha\n",
      "Processing Record 19 of Set 8 : bud\n",
      "Processing Record 20 of Set 8 : nanakuli\n",
      "Processing Record 21 of Set 8 : kavaratti\n",
      "Processing Record 22 of Set 8 : namatanai\n",
      "Processing Record 23 of Set 8 : hohhot\n",
      "Processing Record 24 of Set 8 : chapais\n",
      "Processing Record 25 of Set 8 : broome\n",
      "Processing Record 26 of Set 8 : hachinohe\n",
      "Processing Record 27 of Set 8 : korla\n",
      "Processing Record 28 of Set 8 : quartucciu\n",
      "Processing Record 29 of Set 8 : tevaitoa\n",
      "Processing Record 30 of Set 8 : labuhan\n",
      "Processing Record 31 of Set 8 : port hedland\n",
      "City not found. Skipping... ituni\n",
      "City not found. Skipping... grimari\n",
      "City not found. Skipping... jabiru\n",
      "Processing Record 32 of Set 8 : vredendal\n",
      "Processing Record 33 of Set 8 : itarema\n",
      "Processing Record 34 of Set 8 : pauini\n",
      "Processing Record 35 of Set 8 : kiama\n",
      "Processing Record 36 of Set 8 : praia da vitoria\n",
      "Processing Record 37 of Set 8 : torbay\n",
      "Processing Record 38 of Set 8 : roma\n",
      "Processing Record 39 of Set 8 : puerto morazan\n",
      "Processing Record 40 of Set 8 : jiangyou\n",
      "Processing Record 41 of Set 8 : aswan\n",
      "City not found. Skipping... samusu\n",
      "Processing Record 42 of Set 8 : katherine\n",
      "Processing Record 43 of Set 8 : gweta\n",
      "Processing Record 44 of Set 8 : orlik\n",
      "Processing Record 45 of Set 8 : takab\n",
      "Processing Record 46 of Set 8 : gilgit\n",
      "Processing Record 47 of Set 8 : damavand\n",
      "Processing Record 48 of Set 8 : tazovskiy\n",
      "City not found. Skipping... bacuit\n",
      "Processing Record 49 of Set 8 : gardner\n",
      "Processing Record 50 of Set 8 : necochea\n",
      "Processing Record 0 of Set 9 : san patricio\n",
      "Processing Record 1 of Set 9 : vung tau\n",
      "Processing Record 2 of Set 9 : sorland\n",
      "Processing Record 3 of Set 9 : puerto leguizamo\n",
      "Processing Record 4 of Set 9 : dauphin\n",
      "Processing Record 5 of Set 9 : pingliang\n",
      "Processing Record 6 of Set 9 : ferrenafe\n",
      "Processing Record 7 of Set 9 : pisco\n",
      "Processing Record 8 of Set 9 : rochegda\n",
      "Processing Record 9 of Set 9 : tahta\n",
      "City not found. Skipping... gangotri\n",
      "Processing Record 10 of Set 9 : madona\n",
      "Processing Record 11 of Set 9 : fare\n",
      "Processing Record 12 of Set 9 : aykhal\n",
      "Processing Record 13 of Set 9 : maniitsoq\n",
      "Processing Record 14 of Set 9 : santo tomas\n",
      "Processing Record 15 of Set 9 : sao filipe\n",
      "Processing Record 16 of Set 9 : aligudarz\n",
      "Processing Record 17 of Set 9 : razdolinsk\n",
      "Processing Record 18 of Set 9 : bilma\n",
      "Processing Record 19 of Set 9 : ponta do sol\n",
      "Processing Record 20 of Set 9 : sidney\n",
      "Processing Record 21 of Set 9 : hasaki\n",
      "Processing Record 22 of Set 9 : leningradskiy\n",
      "Processing Record 23 of Set 9 : karratha\n",
      "Processing Record 24 of Set 9 : sturgeon bay\n",
      "Processing Record 25 of Set 9 : valparaiso\n",
      "Processing Record 26 of Set 9 : sabang\n",
      "Processing Record 27 of Set 9 : moose factory\n",
      "Processing Record 28 of Set 9 : amahai\n",
      "Processing Record 29 of Set 9 : tarata\n",
      "Processing Record 30 of Set 9 : novaya lyada\n",
      "Processing Record 31 of Set 9 : ponta delgada\n",
      "Processing Record 32 of Set 9 : kalmunai\n",
      "Processing Record 33 of Set 9 : volot\n",
      "Processing Record 34 of Set 9 : hurghada\n",
      "Processing Record 35 of Set 9 : ekhabi\n",
      "City not found. Skipping... kamenskoye\n",
      "Processing Record 36 of Set 9 : vangaindrano\n",
      "Processing Record 37 of Set 9 : petauke\n",
      "Processing Record 38 of Set 9 : synya\n",
      "Processing Record 39 of Set 9 : bumba\n",
      "Processing Record 40 of Set 9 : bridgewater\n",
      "Processing Record 41 of Set 9 : bakchar\n",
      "Processing Record 42 of Set 9 : elizabeth city\n",
      "City not found. Skipping... kadykchan\n",
      "Processing Record 43 of Set 9 : ponnani\n",
      "Processing Record 44 of Set 9 : steamboat springs\n",
      "Processing Record 45 of Set 9 : oyama\n",
      "Processing Record 46 of Set 9 : jalu\n",
      "Processing Record 47 of Set 9 : mehamn\n",
      "Processing Record 48 of Set 9 : zhigansk\n",
      "Processing Record 49 of Set 9 : dryden\n",
      "Processing Record 50 of Set 9 : adeje\n",
      "Processing Record 0 of Set 10 : morro bay\n",
      "Processing Record 1 of Set 10 : general cepeda\n",
      "Processing Record 2 of Set 10 : borazjan\n",
      "Processing Record 3 of Set 10 : puerto del rosario\n",
      "Processing Record 4 of Set 10 : saint-louis\n",
      "Processing Record 5 of Set 10 : moron\n",
      "Processing Record 6 of Set 10 : almaznyy\n",
      "Processing Record 7 of Set 10 : beloha\n",
      "Processing Record 8 of Set 10 : fuerte olimpo\n",
      "Processing Record 9 of Set 10 : poum\n",
      "Processing Record 10 of Set 10 : inongo\n",
      "Processing Record 11 of Set 10 : khorramshahr\n",
      "Processing Record 12 of Set 10 : muyezerskiy\n",
      "Processing Record 13 of Set 10 : buchanan\n",
      "Processing Record 14 of Set 10 : arrecife\n",
      "City not found. Skipping... longlac\n",
      "Processing Record 15 of Set 10 : chernyshevskiy\n",
      "Processing Record 16 of Set 10 : svetlaya\n",
      "City not found. Skipping... bur gabo\n",
      "Processing Record 17 of Set 10 : gap\n",
      "Processing Record 18 of Set 10 : marsh harbour\n",
      "Processing Record 19 of Set 10 : shenjiamen\n",
      "Processing Record 20 of Set 10 : sorong\n",
      "Processing Record 21 of Set 10 : ilam\n",
      "Processing Record 22 of Set 10 : kumluca\n",
      "Processing Record 23 of Set 10 : ulsteinvik\n",
      "Processing Record 24 of Set 10 : lompoc\n",
      "Processing Record 25 of Set 10 : peterhead\n",
      "Processing Record 26 of Set 10 : kaka\n",
      "City not found. Skipping... barbar\n",
      "Processing Record 27 of Set 10 : vestmanna\n",
      "Processing Record 28 of Set 10 : vardo\n",
      "Processing Record 29 of Set 10 : pangoa\n",
      "Processing Record 30 of Set 10 : ohara\n",
      "Processing Record 31 of Set 10 : sao luiz gonzaga\n",
      "Processing Record 32 of Set 10 : camacha\n",
      "Processing Record 33 of Set 10 : mandali\n",
      "Processing Record 34 of Set 10 : hervey bay\n",
      "Processing Record 35 of Set 10 : kharp\n",
      "Processing Record 36 of Set 10 : conceicao do araguaia\n",
      "Processing Record 37 of Set 10 : ust-tsilma\n",
      "Processing Record 38 of Set 10 : tala\n",
      "Processing Record 39 of Set 10 : bubaque\n",
      "Processing Record 40 of Set 10 : yeppoon\n",
      "Processing Record 41 of Set 10 : san quintin\n",
      "Processing Record 42 of Set 10 : quatre cocos\n",
      "Processing Record 43 of Set 10 : evensk\n",
      "Processing Record 44 of Set 10 : taree\n",
      "Processing Record 45 of Set 10 : ilebo\n",
      "Processing Record 46 of Set 10 : makokou\n",
      "Processing Record 47 of Set 10 : dourbali\n",
      "Processing Record 48 of Set 10 : bosaso\n",
      "Processing Record 49 of Set 10 : nova gradiska\n",
      "Processing Record 50 of Set 10 : soyo\n",
      "Processing Record 0 of Set 11 : grajau\n",
      "Processing Record 1 of Set 11 : mekhe\n",
      "Processing Record 2 of Set 11 : tocopilla\n",
      "Processing Record 3 of Set 11 : bolobo\n",
      "Processing Record 4 of Set 11 : tukrah\n",
      "Processing Record 5 of Set 11 : kharan\n",
      "Processing Record 6 of Set 11 : vannes\n",
      "Processing Record 7 of Set 11 : ambon\n",
      "City not found. Skipping... tsienyane\n",
      "Processing Record 8 of Set 11 : ranau\n",
      "Processing Record 9 of Set 11 : ganzhou\n",
      "Processing Record 10 of Set 11 : kassala\n",
      "Processing Record 11 of Set 11 : nuuk\n",
      "Processing Record 12 of Set 11 : road town\n",
      "Processing Record 13 of Set 11 : bilhaur\n",
      "Processing Record 14 of Set 11 : buzdyak\n",
      "Processing Record 15 of Set 11 : jacareacanga\n",
      "Processing Record 16 of Set 11 : melnikovo\n",
      "Processing Record 17 of Set 11 : verkhnevilyuysk\n",
      "Processing Record 18 of Set 11 : tanout\n",
      "Processing Record 19 of Set 11 : krasnoarmeysk\n",
      "Processing Record 20 of Set 11 : yairipok\n",
      "Processing Record 21 of Set 11 : puerto narino\n",
      "Processing Record 22 of Set 11 : kennett\n",
      "Processing Record 23 of Set 11 : trelew\n",
      "Processing Record 24 of Set 11 : yertsevo\n",
      "Processing Record 25 of Set 11 : rocha\n",
      "Processing Record 26 of Set 11 : along\n",
      "Processing Record 27 of Set 11 : chaykovskiy\n",
      "Processing Record 28 of Set 11 : soto la marina\n",
      "Processing Record 29 of Set 11 : livingston\n",
      "Processing Record 30 of Set 11 : mandan\n",
      "Processing Record 31 of Set 11 : hun\n",
      "Processing Record 32 of Set 11 : bjerringbro\n",
      "Processing Record 33 of Set 11 : college\n",
      "Processing Record 34 of Set 11 : varadero\n",
      "City not found. Skipping... burkhala\n",
      "Processing Record 35 of Set 11 : tual\n",
      "Processing Record 36 of Set 11 : aksarka\n",
      "Processing Record 37 of Set 11 : savonlinna\n",
      "Processing Record 38 of Set 11 : kabompo\n",
      "Processing Record 39 of Set 11 : darlawn\n",
      "Processing Record 40 of Set 11 : kapit\n",
      "__________________________\n",
      "Data Retrieval Complete \n"
     ]
    }
   ],
   "source": [
    "API_URL_base = \"http://api.openweathermap.org/data/2.5/weather?\"\n",
    "units = \"imperial\"\n",
    "query_url = f\"{API_URL_base}appid={weather_api_key}&units={units}&q=\"\n",
    "\n",
    "#Establish list variables\n",
    "city_name_lst = []\n",
    "cloudiness_lst = []\n",
    "country_lst = []\n",
    "date_lst =[]\n",
    "humidity_lst = []\n",
    "lat_lst =[]\n",
    "lng_lst = []\n",
    "max_temp_lst = []\n",
    "wind_spd_lst = []\n",
    "index_ctr = 0\n",
    "set_ctr = 1\n",
    "\n",
    "print(\"Starting Data Retrieval\")\n",
    "print(\"________________________\")\n",
    "\n",
    "#Loop through data\n",
    "for index, city in enumerate(cities, start = 1):\n",
    "    try:\n",
    "        weather_response = requests.get(query_url + city).json()\n",
    "        city_name_lst.append(weather_response[\"name\"])\n",
    "        cloudiness_lst.append(weather_response[\"clouds\"][\"all\"])\n",
    "        country_lst.append(weather_response[\"sys\"][\"country\"])\n",
    "        date_lst.append(weather_response[\"dt\"])\n",
    "        humidity_lst.append(weather_response[\"main\"][\"humidity\"])\n",
    "        lat_lst.append(weather_response[\"coord\"][\"lat\"])\n",
    "        lng_lst.append(weather_response[\"coord\"][\"lon\"])\n",
    "        max_temp_lst.append(weather_response['main']['temp_max'])\n",
    "        wind_spd_lst.append(weather_response[\"wind\"][\"speed\"])\n",
    "        if index_ctr > 49:\n",
    "            index_ctr = 0\n",
    "            set_ctr = set_ctr + 1\n",
    "    \n",
    "        else:\n",
    "            index_ctr = index_ctr + 1\n",
    "            \n",
    "        print(f\"Processing Record {index_ctr} of Set {set_ctr} : {city}\") \n",
    "  \n",
    "    except(KeyError, IndexError):\n",
    "        print(f\"City not found. Skipping... {city}\")\n",
    "        \n",
    "print(\"__________________________\")\n",
    "print(\"Data Retrieval Complete \")    \n"
   ]
  },
  {
   "cell_type": "markdown",
   "metadata": {},
   "source": [
    "### Convert Raw Data to DataFrame\n",
    "* Export the city data into a .csv.\n",
    "* Display the DataFrame"
   ]
  },
  {
   "cell_type": "code",
   "execution_count": 12,
   "metadata": {},
   "outputs": [
    {
     "data": {
      "text/plain": [
       "City                550\n",
       "Cloudiness          550\n",
       "Country             550\n",
       "Date                550\n",
       "Humidity            550\n",
       "Lat                 550\n",
       "Lng                 550\n",
       "Max Temp (F)        550\n",
       "Wind Speed (mph)    550\n",
       "dtype: int64"
      ]
     },
     "execution_count": 12,
     "metadata": {},
     "output_type": "execute_result"
    }
   ],
   "source": [
    "#Create DataFrame\n",
    "weather_df = pd.DataFrame({\n",
    "    \"City\": city_name_lst,\n",
    "    \"Cloudiness\": cloudiness_lst,\n",
    "    \"Country\":country_lst,\n",
    "    \"Date\":date_lst,\n",
    "    \"Humidity\":humidity_lst,\n",
    "    \"Lat\":lat_lst,\n",
    "    \"Lng\":lng_lst,\n",
    "    \"Max Temp (F)\":max_temp_lst,\n",
    "    \"Wind Speed (mph)\":wind_spd_lst\n",
    "    \n",
    "})\n",
    "\n",
    "weather_df.count()\n"
   ]
  },
  {
   "cell_type": "code",
   "execution_count": 10,
   "metadata": {},
   "outputs": [
    {
     "data": {
      "text/html": [
       "<div>\n",
       "<style scoped>\n",
       "    .dataframe tbody tr th:only-of-type {\n",
       "        vertical-align: middle;\n",
       "    }\n",
       "\n",
       "    .dataframe tbody tr th {\n",
       "        vertical-align: top;\n",
       "    }\n",
       "\n",
       "    .dataframe thead th {\n",
       "        text-align: right;\n",
       "    }\n",
       "</style>\n",
       "<table border=\"1\" class=\"dataframe\">\n",
       "  <thead>\n",
       "    <tr style=\"text-align: right;\">\n",
       "      <th></th>\n",
       "      <th>City</th>\n",
       "      <th>Cloudiness</th>\n",
       "      <th>Country</th>\n",
       "      <th>Date</th>\n",
       "      <th>Humidity</th>\n",
       "      <th>Lat</th>\n",
       "      <th>Lng</th>\n",
       "      <th>Max Temp (f)</th>\n",
       "      <th>Wind Speed (mph)</th>\n",
       "    </tr>\n",
       "  </thead>\n",
       "  <tbody>\n",
       "    <tr>\n",
       "      <th>0</th>\n",
       "      <td>Cockburn Town</td>\n",
       "      <td>7</td>\n",
       "      <td>TC</td>\n",
       "      <td>1612848074</td>\n",
       "      <td>77</td>\n",
       "      <td>21.4612</td>\n",
       "      <td>-71.1419</td>\n",
       "      <td>77.67</td>\n",
       "      <td>23.22</td>\n",
       "    </tr>\n",
       "    <tr>\n",
       "      <th>1</th>\n",
       "      <td>Iqaluit</td>\n",
       "      <td>75</td>\n",
       "      <td>CA</td>\n",
       "      <td>1612848044</td>\n",
       "      <td>86</td>\n",
       "      <td>63.7506</td>\n",
       "      <td>-68.5145</td>\n",
       "      <td>17.60</td>\n",
       "      <td>2.66</td>\n",
       "    </tr>\n",
       "    <tr>\n",
       "      <th>2</th>\n",
       "      <td>Acaponeta</td>\n",
       "      <td>0</td>\n",
       "      <td>MX</td>\n",
       "      <td>1612848267</td>\n",
       "      <td>74</td>\n",
       "      <td>22.4964</td>\n",
       "      <td>-105.3594</td>\n",
       "      <td>61.57</td>\n",
       "      <td>1.92</td>\n",
       "    </tr>\n",
       "    <tr>\n",
       "      <th>3</th>\n",
       "      <td>Magadan</td>\n",
       "      <td>98</td>\n",
       "      <td>RU</td>\n",
       "      <td>1612848268</td>\n",
       "      <td>91</td>\n",
       "      <td>59.5667</td>\n",
       "      <td>150.8000</td>\n",
       "      <td>16.34</td>\n",
       "      <td>21.23</td>\n",
       "    </tr>\n",
       "    <tr>\n",
       "      <th>4</th>\n",
       "      <td>Cabo San Lucas</td>\n",
       "      <td>1</td>\n",
       "      <td>MX</td>\n",
       "      <td>1612847982</td>\n",
       "      <td>82</td>\n",
       "      <td>22.8909</td>\n",
       "      <td>-109.9124</td>\n",
       "      <td>63.00</td>\n",
       "      <td>11.50</td>\n",
       "    </tr>\n",
       "    <tr>\n",
       "      <th>...</th>\n",
       "      <td>...</td>\n",
       "      <td>...</td>\n",
       "      <td>...</td>\n",
       "      <td>...</td>\n",
       "      <td>...</td>\n",
       "      <td>...</td>\n",
       "      <td>...</td>\n",
       "      <td>...</td>\n",
       "      <td>...</td>\n",
       "    </tr>\n",
       "    <tr>\n",
       "      <th>545</th>\n",
       "      <td>Aksarka</td>\n",
       "      <td>68</td>\n",
       "      <td>RU</td>\n",
       "      <td>1612848391</td>\n",
       "      <td>85</td>\n",
       "      <td>66.5606</td>\n",
       "      <td>67.7975</td>\n",
       "      <td>-25.73</td>\n",
       "      <td>8.59</td>\n",
       "    </tr>\n",
       "    <tr>\n",
       "      <th>546</th>\n",
       "      <td>Savonlinna</td>\n",
       "      <td>90</td>\n",
       "      <td>FI</td>\n",
       "      <td>1612848391</td>\n",
       "      <td>85</td>\n",
       "      <td>61.8699</td>\n",
       "      <td>28.8800</td>\n",
       "      <td>3.20</td>\n",
       "      <td>3.44</td>\n",
       "    </tr>\n",
       "    <tr>\n",
       "      <th>547</th>\n",
       "      <td>Kabompo</td>\n",
       "      <td>100</td>\n",
       "      <td>ZM</td>\n",
       "      <td>1612848391</td>\n",
       "      <td>97</td>\n",
       "      <td>-13.5927</td>\n",
       "      <td>24.2008</td>\n",
       "      <td>66.00</td>\n",
       "      <td>4.50</td>\n",
       "    </tr>\n",
       "    <tr>\n",
       "      <th>548</th>\n",
       "      <td>Darlawn</td>\n",
       "      <td>0</td>\n",
       "      <td>IN</td>\n",
       "      <td>1612848391</td>\n",
       "      <td>49</td>\n",
       "      <td>24.0167</td>\n",
       "      <td>92.9000</td>\n",
       "      <td>73.40</td>\n",
       "      <td>3.44</td>\n",
       "    </tr>\n",
       "    <tr>\n",
       "      <th>549</th>\n",
       "      <td>Kapit</td>\n",
       "      <td>94</td>\n",
       "      <td>MY</td>\n",
       "      <td>1612848353</td>\n",
       "      <td>59</td>\n",
       "      <td>2.0167</td>\n",
       "      <td>112.9333</td>\n",
       "      <td>90.73</td>\n",
       "      <td>1.32</td>\n",
       "    </tr>\n",
       "  </tbody>\n",
       "</table>\n",
       "<p>550 rows × 9 columns</p>\n",
       "</div>"
      ],
      "text/plain": [
       "               City  Cloudiness Country        Date  Humidity      Lat  \\\n",
       "0     Cockburn Town           7      TC  1612848074        77  21.4612   \n",
       "1           Iqaluit          75      CA  1612848044        86  63.7506   \n",
       "2         Acaponeta           0      MX  1612848267        74  22.4964   \n",
       "3           Magadan          98      RU  1612848268        91  59.5667   \n",
       "4    Cabo San Lucas           1      MX  1612847982        82  22.8909   \n",
       "..              ...         ...     ...         ...       ...      ...   \n",
       "545         Aksarka          68      RU  1612848391        85  66.5606   \n",
       "546      Savonlinna          90      FI  1612848391        85  61.8699   \n",
       "547         Kabompo         100      ZM  1612848391        97 -13.5927   \n",
       "548         Darlawn           0      IN  1612848391        49  24.0167   \n",
       "549           Kapit          94      MY  1612848353        59   2.0167   \n",
       "\n",
       "          Lng  Max Temp (f)  Wind Speed (mph)  \n",
       "0    -71.1419         77.67             23.22  \n",
       "1    -68.5145         17.60              2.66  \n",
       "2   -105.3594         61.57              1.92  \n",
       "3    150.8000         16.34             21.23  \n",
       "4   -109.9124         63.00             11.50  \n",
       "..        ...           ...               ...  \n",
       "545   67.7975        -25.73              8.59  \n",
       "546   28.8800          3.20              3.44  \n",
       "547   24.2008         66.00              4.50  \n",
       "548   92.9000         73.40              3.44  \n",
       "549  112.9333         90.73              1.32  \n",
       "\n",
       "[550 rows x 9 columns]"
      ]
     },
     "execution_count": 10,
     "metadata": {},
     "output_type": "execute_result"
    }
   ],
   "source": [
    "#Display DataFrame\n",
    "weather_df\n"
   ]
  },
  {
   "cell_type": "code",
   "execution_count": 11,
   "metadata": {},
   "outputs": [],
   "source": [
    "#Save data into CSV\n",
    "weather_df.to_csv(\"output_data/cities1.csv\", index = False)"
   ]
  },
  {
   "cell_type": "markdown",
   "metadata": {},
   "source": [
    "## Inspect the data and remove the cities where the humidity > 100%.\n",
    "----\n",
    "Skip this step if there are no cities that have humidity > 100%. "
   ]
  },
  {
   "cell_type": "code",
   "execution_count": null,
   "metadata": {},
   "outputs": [],
   "source": []
  },
  {
   "cell_type": "code",
   "execution_count": 7,
   "metadata": {},
   "outputs": [],
   "source": [
    "#  Get the indices of cities that have humidity over 100%.\n"
   ]
  },
  {
   "cell_type": "code",
   "execution_count": 8,
   "metadata": {},
   "outputs": [],
   "source": [
    "# Make a new DataFrame equal to the city data to drop all humidity outliers by index.\n",
    "# Passing \"inplace=False\" will make a copy of the city_data DataFrame, which we call \"clean_city_data\".\n"
   ]
  },
  {
   "cell_type": "code",
   "execution_count": null,
   "metadata": {},
   "outputs": [],
   "source": [
    "\n"
   ]
  },
  {
   "cell_type": "markdown",
   "metadata": {},
   "source": [
    "## Plotting the Data\n",
    "* Use proper labeling of the plots using plot titles (including date of analysis) and axes labels.\n",
    "* Save the plotted figures as .pngs."
   ]
  },
  {
   "cell_type": "markdown",
   "metadata": {},
   "source": [
    "## Latitude vs. Temperature Plot"
   ]
  },
  {
   "cell_type": "code",
   "execution_count": 13,
   "metadata": {
    "scrolled": true
   },
   "outputs": [
    {
     "data": {
      "image/png": "[encoded data removed]",
      "text/plain": [
       "<Figure size 432x288 with 1 Axes>"
      ]
     },
     "metadata": {
      "needs_background": "light"
     },
     "output_type": "display_data"
    }
   ],
   "source": [
    "plt.scatter(weather_df[\"Lat\"], weather_df[\"Max Temp (F)\"], facecolor = \"steelblue\", edgecolor = \"black\")\n",
    "plt.title(\"City Latitude vs. Max Temperature (02/8/21)\")\n",
    "plt.xlabel(\"Latitude\")\n",
    "plt.ylabel(\"Max Temperature (F)\")\n",
    "plt.grid(linestyle='-', linewidth=1, alpha = 0.5)\n"
   ]
  },
  {
   "cell_type": "code",
   "execution_count": 19,
   "metadata": {},
   "outputs": [
    {
     "data": {
      "text/plain": [
       "<Figure size 432x288 with 0 Axes>"
      ]
     },
     "metadata": {},
     "output_type": "display_data"
    }
   ],
   "source": [
    "# Save figure as .png file\n",
    "plt.savefig(\"output_data/City Latitude vs Max Temperature.png\")"
   ]
  },
  {
   "cell_type": "markdown",
   "metadata": {},
   "source": [
    "## Latitude vs. Humidity Plot"
   ]
  },
  {
   "cell_type": "code",
   "execution_count": 15,
   "metadata": {
    "scrolled": true
   },
   "outputs": [
    {
     "data": {
      "image/png": "[encoded data removed]",
      "text/plain": [
       "<Figure size 432x288 with 1 Axes>"
      ]
     },
     "metadata": {
      "needs_background": "light"
     },
     "output_type": "display_data"
    }
   ],
   "source": [
    "plt.scatter(weather_df[\"Lat\"], weather_df[\"Humidity\"], facecolor = \"steelblue\", edgecolor = \"black\")\n",
    "plt.title(\"City Latitude vs. Humidity (02/8/21)\")\n",
    "plt.xlabel(\"Latitude\")\n",
    "plt.ylabel(\"Humidity (%)\")\n",
    "plt.grid(linestyle='-', linewidth=1, alpha = 0.5)\n"
   ]
  },
  {
   "cell_type": "code",
   "execution_count": 17,
   "metadata": {},
   "outputs": [
    {
     "data": {
      "text/plain": [
       "<Figure size 432x288 with 0 Axes>"
      ]
     },
     "metadata": {},
     "output_type": "display_data"
    }
   ],
   "source": [
    "# Save figure as .png file\n",
    "plt.savefig(\"output_data/City Latitude vs Humidity.png\")"
   ]
  },
  {
   "cell_type": "markdown",
   "metadata": {},
   "source": [
    "## Latitude vs. Cloudiness Plot"
   ]
  },
  {
   "cell_type": "code",
   "execution_count": 20,
   "metadata": {},
   "outputs": [
    {
     "data": {
      "image/png": "[encoded data removed]",
      "text/plain": [
       "<Figure size 432x288 with 1 Axes>"
      ]
     },
     "metadata": {
      "needs_background": "light"
     },
     "output_type": "display_data"
    }
   ],
   "source": [
    "plt.scatter(weather_df[\"Lat\"], weather_df[\"Cloudiness\"], facecolor = \"steelblue\", edgecolor = \"black\")\n",
    "plt.title(\"City Latitude vs. Cloudiness (02/8/21)\")\n",
    "plt.xlabel(\"Latitude\")\n",
    "plt.ylabel(\"Cloudiness (%)\")\n",
    "plt.grid(linestyle='-', linewidth=1, alpha = 0.5)"
   ]
  },
  {
   "cell_type": "code",
   "execution_count": 21,
   "metadata": {},
   "outputs": [
    {
     "data": {
      "text/plain": [
       "<Figure size 432x288 with 0 Axes>"
      ]
     },
     "metadata": {},
     "output_type": "display_data"
    }
   ],
   "source": [
    "# Save figure as .png file\n",
    "plt.savefig(\"output_data/City Latitude vs Cloudiness.png\")"
   ]
  },
  {
   "cell_type": "markdown",
   "metadata": {},
   "source": [
    "## Latitude vs. Wind Speed Plot"
   ]
  },
  {
   "cell_type": "code",
   "execution_count": 23,
   "metadata": {
    "scrolled": true
   },
   "outputs": [
    {
     "data": {
      "image/png": "[encoded data removed]",
      "text/plain": [
       "<Figure size 432x288 with 1 Axes>"
      ]
     },
     "metadata": {
      "needs_background": "light"
     },
     "output_type": "display_data"
    }
   ],
   "source": [
    "plt.scatter(weather_df[\"Lat\"], weather_df[\"Wind Speed (mph)\"], facecolor = \"steelblue\", edgecolor = \"black\")\n",
    "plt.title(\"City Latitude vs. Wind Speed (mph)\")\n",
    "plt.xlabel(\"Latitude\")\n",
    "plt.ylabel(\"Wind Speed (mph)\")\n",
    "plt.grid(linestyle='-', linewidth=1, alpha = 0.5)"
   ]
  },
  {
   "cell_type": "code",
   "execution_count": 24,
   "metadata": {},
   "outputs": [
    {
     "data": {
      "text/plain": [
       "<Figure size 432x288 with 0 Axes>"
      ]
     },
     "metadata": {},
     "output_type": "display_data"
    }
   ],
   "source": [
    "# Save figure as .png file\n",
    "plt.savefig(\"output_data/City Latitude vs Wind Speed.png\")"
   ]
  },
  {
   "cell_type": "markdown",
   "metadata": {},
   "source": [
    "## Linear Regression"
   ]
  },
  {
   "cell_type": "code",
   "execution_count": 31,
   "metadata": {},
   "outputs": [],
   "source": [
    "#separate the plots into Northern Hemisphere (greater than or equal to 0 degrees latitude) and Southern Hemisphere (less than 0 degrees latitude)\n",
    "north_hemi = weather_df.loc[weather_df[\"Lat\"] >= 0]\n",
    "south_hemi = weather_df.loc[weather_df[\"Lat\"] < 0]"
   ]
  },
  {
   "cell_type": "code",
   "execution_count": 34,
   "metadata": {},
   "outputs": [],
   "source": []
  },
  {
   "cell_type": "markdown",
   "metadata": {},
   "source": [
    "####  Northern Hemisphere - Max Temp vs. Latitude Linear Regression"
   ]
  },
  {
   "cell_type": "code",
   "execution_count": null,
   "metadata": {},
   "outputs": [],
   "source": []
  },
  {
   "cell_type": "markdown",
   "metadata": {},
   "source": [
    "####  Southern Hemisphere - Max Temp vs. Latitude Linear Regression"
   ]
  },
  {
   "cell_type": "code",
   "execution_count": null,
   "metadata": {},
   "outputs": [],
   "source": []
  },
  {
   "cell_type": "markdown",
   "metadata": {},
   "source": [
    "####  Northern Hemisphere - Humidity (%) vs. Latitude Linear Regression"
   ]
  },
  {
   "cell_type": "code",
   "execution_count": null,
   "metadata": {},
   "outputs": [],
   "source": []
  },
  {
   "cell_type": "markdown",
   "metadata": {},
   "source": [
    "####  Southern Hemisphere - Humidity (%) vs. Latitude Linear Regression"
   ]
  },
  {
   "cell_type": "code",
   "execution_count": null,
   "metadata": {},
   "outputs": [],
   "source": []
  },
  {
   "cell_type": "markdown",
   "metadata": {},
   "source": [
    "####  Northern Hemisphere - Cloudiness (%) vs. Latitude Linear Regression"
   ]
  },
  {
   "cell_type": "code",
   "execution_count": null,
   "metadata": {},
   "outputs": [],
   "source": []
  },
  {
   "cell_type": "markdown",
   "metadata": {},
   "source": [
    "####  Southern Hemisphere - Cloudiness (%) vs. Latitude Linear Regression"
   ]
  },
  {
   "cell_type": "code",
   "execution_count": null,
   "metadata": {},
   "outputs": [],
   "source": []
  },
  {
   "cell_type": "markdown",
   "metadata": {},
   "source": [
    "####  Northern Hemisphere - Wind Speed (mph) vs. Latitude Linear Regression"
   ]
  },
  {
   "cell_type": "code",
   "execution_count": null,
   "metadata": {},
   "outputs": [],
   "source": []
  },
  {
   "cell_type": "markdown",
   "metadata": {},
   "source": [
    "####  Southern Hemisphere - Wind Speed (mph) vs. Latitude Linear Regression"
   ]
  },
  {
   "cell_type": "code",
   "execution_count": null,
   "metadata": {},
   "outputs": [],
   "source": []
  },
  {
   "cell_type": "code",
   "execution_count": null,
   "metadata": {},
   "outputs": [],
   "source": []
  },
  {
   "cell_type": "code",
   "execution_count": null,
   "metadata": {},
   "outputs": [],
   "source": []
  }
 ],
 "metadata": {
  "anaconda-cloud": {},
  "kernel_info": {
   "name": "python3"
  },
  "kernelspec": {
   "display_name": "Python [conda env:pythonData] *",
   "language": "python",
   "name": "conda-env-pythonData-py"
  },
  "language_info": {
   "codemirror_mode": {
    "name": "ipython",
    "version": 3
   },
   "file_extension": ".py",
   "mimetype": "text/x-python",
   "name": "python",
   "nbconvert_exporter": "python",
   "pygments_lexer": "ipython3",
   "version": "3.6.10"
  },
  "latex_envs": {
   "LaTeX_envs_menu_present": true,
   "autoclose": false,
   "autocomplete": true,
   "bibliofile": "biblio.bib",
   "cite_by": "apalike",
   "current_citInitial": 1,
   "eqLabelWithNumbers": true,
   "eqNumInitial": 1,
   "hotkeys": {
    "equation": "Ctrl-E",
    "itemize": "Ctrl-I"
   },
   "labels_anchors": false,
   "latex_user_defs": false,
   "report_style_numbering": false,
   "user_envs_cfg": false
  },
  "nteract": {
   "version": "0.12.3"
  }
 },
 "nbformat": 4,
 "nbformat_minor": 2
}
