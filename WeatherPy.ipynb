{
 "cells": [
  {
   "cell_type": "markdown",
   "metadata": {},
   "source": [
    "# WeatherPy\n",
    "----\n",
    "\n",
    "#### Note\n",
    "* Instructions have been included for each segment. You do not have to follow them exactly, but they are included to help you think through the steps."
   ]
  },
  {
   "cell_type": "code",
   "execution_count": 1,
   "metadata": {},
   "outputs": [
    {
     "name": "stdout",
     "output_type": "stream",
     "text": [
      "Requirement already satisfied: citipy in c:\\users\\myc\\anaconda3\\envs\\pythondata\\lib\\site-packages (0.0.5)\n",
      "Requirement already satisfied: kdtree>=0.12 in c:\\users\\myc\\anaconda3\\envs\\pythondata\\lib\\site-packages (from citipy) (0.16)\n",
      "Note: you may need to restart the kernel to use updated packages.\n"
     ]
    }
   ],
   "source": [
    "pip install citipy"
   ]
  },
  {
   "cell_type": "code",
   "execution_count": 2,
   "metadata": {
    "scrolled": true
   },
   "outputs": [],
   "source": [
    "# Dependencies and Setup\n",
    "import json\n",
    "import matplotlib.pyplot as plt\n",
    "import pandas as pd\n",
    "import numpy as np\n",
    "import requests\n",
    "import time\n",
    "import datetime\n",
    "from scipy.stats import linregress\n",
    "\n",
    "# Import API key\n",
    "from api_keys import weather_api_key\n",
    "from api_keys import g_key\n",
    "\n",
    "# Incorporated citipy to determine city based on latitude and longitude\n",
    "from citipy import citipy\n",
    "\n",
    "# Output File (CSV)\n",
    "output_data_file = \"output_data/cities.csv\"\n",
    "\n",
    "# Range of latitudes and longitudes\n",
    "lat_range = (-90, 90)\n",
    "lng_range = (-180, 180)"
   ]
  },
  {
   "cell_type": "markdown",
   "metadata": {},
   "source": [
    "## Generate Cities List"
   ]
  },
  {
   "cell_type": "code",
   "execution_count": 3,
   "metadata": {},
   "outputs": [
    {
     "data": {
      "text/plain": [
       "608"
      ]
     },
     "execution_count": 3,
     "metadata": {},
     "output_type": "execute_result"
    }
   ],
   "source": [
    "# List for holding lat_lngs and cities\n",
    "lat_lngs = []\n",
    "cities = []\n",
    "\n",
    "# Create a set of random lat and lng combinations\n",
    "lats = np.random.uniform(low=-90.000, high=90.000, size=1500)\n",
    "lngs = np.random.uniform(low=-180.00, high=180.000, size=1500)\n",
    "lat_lngs = zip(lats, lngs)\n",
    "\n",
    "# Identify nearest city for each lat, lng combination\n",
    "for lat_lng in lat_lngs:\n",
    "    city = citipy.nearest_city(lat_lng[0], lat_lng[1]).city_name\n",
    "    \n",
    "    # If the city is unique, then add it to a our cities list\n",
    "    if city not in cities:\n",
    "        cities.append(city)\n",
    "\n",
    "# Print the city count to confirm sufficient count\n",
    "len(cities)"
   ]
  },
  {
   "cell_type": "markdown",
   "metadata": {},
   "source": [
    "### Perform API Calls\n",
    "* Perform a weather check on each city using a series of successive API calls.\n",
    "* Include a print log of each city as it'sbeing processed (with the city number and city name).\n"
   ]
  },
  {
   "cell_type": "code",
   "execution_count": 4,
   "metadata": {
    "scrolled": true
   },
   "outputs": [
    {
     "name": "stdout",
     "output_type": "stream",
     "text": [
      "Starting Data Retrieval\n",
      "________________________\n",
      "City not found. Skipping... rungata\n",
      "Processing Record 1 of Set 1 : ilulissat\n",
      "Processing Record 2 of Set 1 : nikolskoye\n",
      "City not found. Skipping... ngukurr\n",
      "Processing Record 3 of Set 1 : atherton\n",
      "Processing Record 4 of Set 1 : butaritari\n",
      "Processing Record 5 of Set 1 : punta arenas\n",
      "Processing Record 6 of Set 1 : bairiki\n",
      "Processing Record 7 of Set 1 : georgetown\n",
      "Processing Record 8 of Set 1 : avarua\n",
      "Processing Record 9 of Set 1 : bengkulu\n",
      "Processing Record 10 of Set 1 : kaitangata\n",
      "Processing Record 11 of Set 1 : mataura\n",
      "City not found. Skipping... tsihombe\n",
      "Processing Record 12 of Set 1 : tuatapere\n",
      "Processing Record 13 of Set 1 : bandarbeyla\n",
      "Processing Record 14 of Set 1 : sao filipe\n",
      "Processing Record 15 of Set 1 : cherskiy\n",
      "Processing Record 16 of Set 1 : marsa matruh\n",
      "Processing Record 17 of Set 1 : victoria\n",
      "Processing Record 18 of Set 1 : ushuaia\n",
      "Processing Record 19 of Set 1 : cidreira\n",
      "Processing Record 20 of Set 1 : rikitea\n",
      "Processing Record 21 of Set 1 : atuona\n",
      "Processing Record 22 of Set 1 : energeticheskiy\n",
      "Processing Record 23 of Set 1 : albany\n",
      "Processing Record 24 of Set 1 : busselton\n",
      "Processing Record 25 of Set 1 : leh\n",
      "Processing Record 26 of Set 1 : luderitz\n",
      "Processing Record 27 of Set 1 : barrow\n",
      "Processing Record 28 of Set 1 : bredasdorp\n",
      "Processing Record 29 of Set 1 : flinders\n",
      "Processing Record 30 of Set 1 : betong\n",
      "Processing Record 31 of Set 1 : tarragona\n",
      "City not found. Skipping... grand river south east\n",
      "Processing Record 32 of Set 1 : esna\n",
      "Processing Record 33 of Set 1 : carnarvon\n",
      "Processing Record 34 of Set 1 : hermanus\n",
      "Processing Record 35 of Set 1 : daura\n",
      "Processing Record 36 of Set 1 : lorengau\n",
      "Processing Record 37 of Set 1 : sampit\n",
      "Processing Record 38 of Set 1 : jieshi\n",
      "Processing Record 39 of Set 1 : kapaa\n",
      "City not found. Skipping... eskasem\n",
      "Processing Record 40 of Set 1 : kpandae\n",
      "Processing Record 41 of Set 1 : berbera\n",
      "Processing Record 42 of Set 1 : isangel\n",
      "Processing Record 43 of Set 1 : rocha\n",
      "Processing Record 44 of Set 1 : neepawa\n",
      "Processing Record 45 of Set 1 : jamestown\n",
      "City not found. Skipping... amderma\n",
      "Processing Record 46 of Set 1 : progreso\n",
      "Processing Record 47 of Set 1 : westport\n",
      "City not found. Skipping... illoqqortoormiut\n",
      "Processing Record 48 of Set 1 : yellowknife\n",
      "Processing Record 49 of Set 1 : east london\n",
      "Processing Record 50 of Set 1 : lebu\n",
      "Processing Record 0 of Set 2 : bluff\n",
      "Processing Record 1 of Set 2 : torbay\n",
      "Processing Record 2 of Set 2 : bethel\n",
      "Processing Record 3 of Set 2 : lagoa\n",
      "Processing Record 4 of Set 2 : saint-pierre\n",
      "City not found. Skipping... yuzhno-yeniseyskiy\n",
      "Processing Record 5 of Set 2 : bereda\n",
      "Processing Record 6 of Set 2 : anuchino\n",
      "Processing Record 7 of Set 2 : qaanaaq\n",
      "Processing Record 8 of Set 2 : lasa\n",
      "Processing Record 9 of Set 2 : makakilo city\n",
      "Processing Record 10 of Set 2 : upernavik\n",
      "Processing Record 11 of Set 2 : sonoita\n",
      "Processing Record 12 of Set 2 : iqaluit\n",
      "Processing Record 13 of Set 2 : hay river\n",
      "Processing Record 14 of Set 2 : cape town\n",
      "City not found. Skipping... barentsburg\n",
      "Processing Record 15 of Set 2 : vanderhoof\n",
      "Processing Record 16 of Set 2 : sitka\n",
      "Processing Record 17 of Set 2 : sola\n",
      "Processing Record 18 of Set 2 : cabo san lucas\n",
      "Processing Record 19 of Set 2 : lucapa\n",
      "Processing Record 20 of Set 2 : miri\n",
      "Processing Record 21 of Set 2 : bac lieu\n",
      "Processing Record 22 of Set 2 : port alfred\n",
      "Processing Record 23 of Set 2 : thompson\n",
      "Processing Record 24 of Set 2 : ribeira grande\n",
      "Processing Record 25 of Set 2 : sao joao da barra\n",
      "City not found. Skipping... yian\n",
      "Processing Record 26 of Set 2 : kysyl-syr\n",
      "Processing Record 27 of Set 2 : hilo\n",
      "Processing Record 28 of Set 2 : ancud\n",
      "City not found. Skipping... taolanaro\n",
      "Processing Record 29 of Set 2 : khatanga\n",
      "Processing Record 30 of Set 2 : salalah\n",
      "Processing Record 31 of Set 2 : vaini\n",
      "Processing Record 32 of Set 2 : salinas\n",
      "Processing Record 33 of Set 2 : klaksvik\n",
      "City not found. Skipping... sentyabrskiy\n",
      "Processing Record 34 of Set 2 : san patricio\n",
      "Processing Record 35 of Set 2 : port moresby\n",
      "Processing Record 36 of Set 2 : lensk\n",
      "Processing Record 37 of Set 2 : te anau\n",
      "Processing Record 38 of Set 2 : nyurba\n",
      "Processing Record 39 of Set 2 : iwanai\n",
      "Processing Record 40 of Set 2 : chapais\n",
      "Processing Record 41 of Set 2 : grand gaube\n",
      "Processing Record 42 of Set 2 : tasiilaq\n",
      "Processing Record 43 of Set 2 : hithadhoo\n",
      "Processing Record 44 of Set 2 : necochea\n",
      "Processing Record 45 of Set 2 : muros\n",
      "Processing Record 46 of Set 2 : vostok\n",
      "Processing Record 47 of Set 2 : bambous virieux\n",
      "Processing Record 48 of Set 2 : kinel-cherkassy\n",
      "Processing Record 49 of Set 2 : kudahuvadhoo\n",
      "Processing Record 50 of Set 2 : clyde river\n",
      "Processing Record 0 of Set 3 : emerald\n",
      "Processing Record 1 of Set 3 : faanui\n",
      "Processing Record 2 of Set 3 : goma\n",
      "Processing Record 3 of Set 3 : chuy\n",
      "Processing Record 4 of Set 3 : akureyri\n",
      "Processing Record 5 of Set 3 : wenatchee\n",
      "Processing Record 6 of Set 3 : provideniya\n",
      "Processing Record 7 of Set 3 : adrar\n",
      "Processing Record 8 of Set 3 : tomatlan\n",
      "Processing Record 9 of Set 3 : misratah\n",
      "Processing Record 10 of Set 3 : dakar\n",
      "Processing Record 11 of Set 3 : paracuru\n",
      "Processing Record 12 of Set 3 : komsomolskiy\n",
      "Processing Record 13 of Set 3 : pevek\n",
      "Processing Record 14 of Set 3 : virginia beach\n",
      "Processing Record 15 of Set 3 : tuktoyaktuk\n",
      "Processing Record 16 of Set 3 : lerwick\n",
      "Processing Record 17 of Set 3 : gorbunki\n",
      "City not found. Skipping... saleaula\n",
      "City not found. Skipping... nizhneyansk\n",
      "Processing Record 18 of Set 3 : santa cruz\n",
      "Processing Record 19 of Set 3 : scottsbluff\n",
      "Processing Record 20 of Set 3 : zaysan\n",
      "Processing Record 21 of Set 3 : shakhtinsk\n",
      "Processing Record 22 of Set 3 : eyl\n",
      "Processing Record 23 of Set 3 : tiksi\n",
      "Processing Record 24 of Set 3 : kwinana\n",
      "Processing Record 25 of Set 3 : vanavara\n",
      "Processing Record 26 of Set 3 : brownwood\n",
      "Processing Record 27 of Set 3 : cabedelo\n",
      "Processing Record 28 of Set 3 : ponta do sol\n",
      "Processing Record 29 of Set 3 : maniitsoq\n",
      "City not found. Skipping... ust-kamchatsk\n",
      "Processing Record 30 of Set 3 : smithers\n",
      "Processing Record 31 of Set 3 : puerto ayora\n",
      "Processing Record 32 of Set 3 : antequera\n",
      "Processing Record 33 of Set 3 : elat\n",
      "Processing Record 34 of Set 3 : mar del plata\n",
      "Processing Record 35 of Set 3 : north versailles\n",
      "Processing Record 36 of Set 3 : acarau\n",
      "Processing Record 37 of Set 3 : lata\n",
      "Processing Record 38 of Set 3 : tapiramuta\n",
      "Processing Record 39 of Set 3 : sukumo\n",
      "Processing Record 40 of Set 3 : gamba\n",
      "Processing Record 41 of Set 3 : kununurra\n",
      "Processing Record 42 of Set 3 : sorrento\n",
      "Processing Record 43 of Set 3 : narsaq\n",
      "Processing Record 44 of Set 3 : campagna\n",
      "Processing Record 45 of Set 3 : mount gambier\n",
      "Processing Record 46 of Set 3 : san luis\n",
      "Processing Record 47 of Set 3 : kodiak\n",
      "City not found. Skipping... samusu\n",
      "Processing Record 48 of Set 3 : qasigiannguit\n",
      "Processing Record 49 of Set 3 : wufeng\n",
      "Processing Record 50 of Set 3 : repelon\n",
      "Processing Record 0 of Set 4 : altamont\n",
      "Processing Record 1 of Set 4 : puerto escondido\n",
      "Processing Record 2 of Set 4 : aklavik\n",
      "Processing Record 3 of Set 4 : arraial do cabo\n",
      "Processing Record 4 of Set 4 : saint-philippe\n",
      "Processing Record 5 of Set 4 : villarrica\n",
      "Processing Record 6 of Set 4 : abnub\n",
      "Processing Record 7 of Set 4 : chippewa falls\n",
      "Processing Record 8 of Set 4 : nanortalik\n",
      "Processing Record 9 of Set 4 : derzhavinsk\n",
      "Processing Record 10 of Set 4 : torrington\n",
      "Processing Record 11 of Set 4 : sandakan\n",
      "Processing Record 12 of Set 4 : pandan\n",
      "Processing Record 13 of Set 4 : finote selam\n",
      "Processing Record 14 of Set 4 : atambua\n",
      "Processing Record 15 of Set 4 : mount isa\n",
      "Processing Record 16 of Set 4 : razole\n",
      "Processing Record 17 of Set 4 : staryy nadym\n",
      "Processing Record 18 of Set 4 : khandyga\n",
      "City not found. Skipping... attawapiskat\n",
      "City not found. Skipping... saint-die\n",
      "Processing Record 19 of Set 4 : mareeba\n",
      "Processing Record 20 of Set 4 : dawei\n",
      "Processing Record 21 of Set 4 : rawson\n",
      "Processing Record 22 of Set 4 : coahuayana\n",
      "Processing Record 23 of Set 4 : rio gallegos\n",
      "Processing Record 24 of Set 4 : safford\n",
      "Processing Record 25 of Set 4 : saint george\n",
      "Processing Record 26 of Set 4 : puerto madryn\n",
      "City not found. Skipping... samalaeulu\n",
      "Processing Record 27 of Set 4 : iquique\n"
     ]
    },
    {
     "name": "stdout",
     "output_type": "stream",
     "text": [
      "Processing Record 28 of Set 4 : naucalpan\n",
      "Processing Record 29 of Set 4 : pauini\n",
      "Processing Record 30 of Set 4 : bilibino\n",
      "Processing Record 31 of Set 4 : waipawa\n",
      "Processing Record 32 of Set 4 : cururupu\n",
      "Processing Record 33 of Set 4 : thunder bay\n",
      "Processing Record 34 of Set 4 : ukiah\n",
      "Processing Record 35 of Set 4 : saskylakh\n",
      "Processing Record 36 of Set 4 : honiara\n",
      "Processing Record 37 of Set 4 : grindavik\n",
      "Processing Record 38 of Set 4 : natal\n",
      "Processing Record 39 of Set 4 : matagalpa\n",
      "Processing Record 40 of Set 4 : guerrero negro\n",
      "Processing Record 41 of Set 4 : velizh\n",
      "Processing Record 42 of Set 4 : benguela\n",
      "Processing Record 43 of Set 4 : kruisfontein\n",
      "Processing Record 44 of Set 4 : aykhal\n",
      "Processing Record 45 of Set 4 : pisco\n",
      "Processing Record 46 of Set 4 : whitehorse\n",
      "Processing Record 47 of Set 4 : xinqing\n",
      "Processing Record 48 of Set 4 : barcelos\n",
      "Processing Record 49 of Set 4 : castro\n",
      "Processing Record 50 of Set 4 : lukuledi\n",
      "Processing Record 0 of Set 5 : asau\n",
      "Processing Record 1 of Set 5 : aflao\n",
      "Processing Record 2 of Set 5 : haines junction\n",
      "Processing Record 3 of Set 5 : sinjai\n",
      "Processing Record 4 of Set 5 : caraz\n",
      "Processing Record 5 of Set 5 : namibe\n",
      "Processing Record 6 of Set 5 : shimoda\n",
      "Processing Record 7 of Set 5 : fuling\n",
      "Processing Record 8 of Set 5 : dikson\n",
      "Processing Record 9 of Set 5 : new norfolk\n",
      "Processing Record 10 of Set 5 : acapulco\n",
      "Processing Record 11 of Set 5 : port elizabeth\n",
      "Processing Record 12 of Set 5 : kloulklubed\n",
      "Processing Record 13 of Set 5 : tecpan\n",
      "Processing Record 14 of Set 5 : tiznit\n",
      "Processing Record 15 of Set 5 : touros\n",
      "Processing Record 16 of Set 5 : ketchikan\n",
      "Processing Record 17 of Set 5 : adilcevaz\n",
      "City not found. Skipping... taburi\n",
      "Processing Record 18 of Set 5 : balud\n",
      "Processing Record 19 of Set 5 : mahebourg\n",
      "Processing Record 20 of Set 5 : inhambane\n",
      "Processing Record 21 of Set 5 : zabaykalsk\n",
      "Processing Record 22 of Set 5 : bursa\n",
      "City not found. Skipping... ruian\n",
      "Processing Record 23 of Set 5 : yar-sale\n",
      "Processing Record 24 of Set 5 : tabas\n",
      "Processing Record 25 of Set 5 : kampene\n",
      "Processing Record 26 of Set 5 : kahului\n",
      "Processing Record 27 of Set 5 : severo-kurilsk\n",
      "Processing Record 28 of Set 5 : homa bay\n",
      "Processing Record 29 of Set 5 : axim\n",
      "Processing Record 30 of Set 5 : marawi\n",
      "Processing Record 31 of Set 5 : dawlatabad\n",
      "City not found. Skipping... galiwinku\n",
      "Processing Record 32 of Set 5 : corinto\n",
      "Processing Record 33 of Set 5 : dingle\n",
      "Processing Record 34 of Set 5 : hobyo\n",
      "Processing Record 35 of Set 5 : tromso\n",
      "Processing Record 36 of Set 5 : ostrovnoy\n",
      "Processing Record 37 of Set 5 : pringsewu\n",
      "Processing Record 38 of Set 5 : fortuna\n",
      "Processing Record 39 of Set 5 : poya\n",
      "Processing Record 40 of Set 5 : cockburn town\n",
      "Processing Record 41 of Set 5 : nantucket\n",
      "Processing Record 42 of Set 5 : methoni\n",
      "Processing Record 43 of Set 5 : cayenne\n",
      "Processing Record 44 of Set 5 : san policarpo\n",
      "Processing Record 45 of Set 5 : kushtagi\n",
      "Processing Record 46 of Set 5 : maroantsetra\n",
      "Processing Record 47 of Set 5 : banjar\n",
      "Processing Record 48 of Set 5 : puerto cabezas\n",
      "City not found. Skipping... doctor pedro p. pena\n",
      "Processing Record 49 of Set 5 : dunedin\n",
      "Processing Record 50 of Set 5 : san lorenzo\n",
      "Processing Record 0 of Set 6 : pangnirtung\n",
      "Processing Record 1 of Set 6 : mbandaka\n",
      "Processing Record 2 of Set 6 : juneau\n",
      "Processing Record 3 of Set 6 : ponta delgada\n",
      "Processing Record 4 of Set 6 : lavrentiya\n",
      "City not found. Skipping... tarudant\n",
      "Processing Record 5 of Set 6 : bonavista\n",
      "Processing Record 6 of Set 6 : vanimo\n",
      "Processing Record 7 of Set 6 : padang\n",
      "City not found. Skipping... tasbuget\n",
      "Processing Record 8 of Set 6 : coihaique\n",
      "Processing Record 9 of Set 6 : san jose\n",
      "Processing Record 10 of Set 6 : vung tau\n",
      "City not found. Skipping... borama\n",
      "Processing Record 11 of Set 6 : lompoc\n",
      "Processing Record 12 of Set 6 : airai\n",
      "Processing Record 13 of Set 6 : mielec\n",
      "Processing Record 14 of Set 6 : dwarka\n",
      "City not found. Skipping... mys shmidta\n",
      "Processing Record 15 of Set 6 : fairbanks\n",
      "Processing Record 16 of Set 6 : jurm\n",
      "Processing Record 17 of Set 6 : selty\n",
      "Processing Record 18 of Set 6 : freetown\n",
      "Processing Record 19 of Set 6 : portmore\n",
      "Processing Record 20 of Set 6 : esperance\n",
      "City not found. Skipping... mergui\n",
      "Processing Record 21 of Set 6 : koulikoro\n",
      "Processing Record 22 of Set 6 : egvekinot\n",
      "Processing Record 23 of Set 6 : alice springs\n",
      "Processing Record 24 of Set 6 : benghazi\n",
      "Processing Record 25 of Set 6 : barbalha\n",
      "Processing Record 26 of Set 6 : idlib\n",
      "Processing Record 27 of Set 6 : ngunguru\n",
      "Processing Record 28 of Set 6 : kalengwa\n",
      "Processing Record 29 of Set 6 : hobart\n",
      "City not found. Skipping... belushya guba\n",
      "Processing Record 30 of Set 6 : kuytun\n",
      "Processing Record 31 of Set 6 : souillac\n",
      "City not found. Skipping... tumannyy\n",
      "Processing Record 32 of Set 6 : turukhansk\n",
      "Processing Record 33 of Set 6 : bogotol\n",
      "Processing Record 34 of Set 6 : hamilton\n",
      "Processing Record 35 of Set 6 : mayumba\n",
      "Processing Record 36 of Set 6 : kindu\n",
      "Processing Record 37 of Set 6 : wamba\n",
      "Processing Record 38 of Set 6 : vryheid\n",
      "Processing Record 39 of Set 6 : chancay\n",
      "Processing Record 40 of Set 6 : iranshahr\n",
      "Processing Record 41 of Set 6 : ekibastuz\n",
      "Processing Record 42 of Set 6 : ulaangom\n",
      "Processing Record 43 of Set 6 : portland\n",
      "Processing Record 44 of Set 6 : nhulunbuy\n",
      "Processing Record 45 of Set 6 : sivaki\n",
      "Processing Record 46 of Set 6 : baruun-urt\n",
      "City not found. Skipping... viligili\n",
      "Processing Record 47 of Set 6 : businga\n",
      "Processing Record 48 of Set 6 : saurimo\n",
      "Processing Record 49 of Set 6 : meridian\n",
      "Processing Record 50 of Set 6 : yumen\n",
      "Processing Record 0 of Set 7 : sistranda\n",
      "City not found. Skipping... warqla\n",
      "Processing Record 1 of Set 7 : aqtobe\n",
      "Processing Record 2 of Set 7 : okhotsk\n",
      "Processing Record 3 of Set 7 : bathsheba\n",
      "Processing Record 4 of Set 7 : sinjar\n",
      "Processing Record 5 of Set 7 : yangcun\n",
      "Processing Record 6 of Set 7 : bireun\n",
      "Processing Record 7 of Set 7 : geraldton\n",
      "Processing Record 8 of Set 7 : talara\n",
      "Processing Record 9 of Set 7 : angoche\n",
      "Processing Record 10 of Set 7 : mehamn\n",
      "Processing Record 11 of Set 7 : magway\n",
      "Processing Record 12 of Set 7 : tessalit\n",
      "Processing Record 13 of Set 7 : noumea\n",
      "Processing Record 14 of Set 7 : astoria\n",
      "Processing Record 15 of Set 7 : batemans bay\n",
      "Processing Record 16 of Set 7 : alofi\n",
      "Processing Record 17 of Set 7 : afration\n",
      "City not found. Skipping... vaitupu\n",
      "Processing Record 18 of Set 7 : anadyr\n",
      "Processing Record 19 of Set 7 : hualmay\n",
      "Processing Record 20 of Set 7 : astara\n",
      "Processing Record 21 of Set 7 : betioky\n",
      "Processing Record 22 of Set 7 : liverpool\n",
      "Processing Record 23 of Set 7 : codrington\n",
      "Processing Record 24 of Set 7 : mchinji\n",
      "Processing Record 25 of Set 7 : karacakoy\n",
      "Processing Record 26 of Set 7 : petropavlovsk-kamchatskiy\n",
      "Processing Record 27 of Set 7 : morant bay\n",
      "Processing Record 28 of Set 7 : skibbereen\n",
      "Processing Record 29 of Set 7 : madras\n",
      "City not found. Skipping... palabuhanratu\n",
      "Processing Record 30 of Set 7 : agropoli\n",
      "Processing Record 31 of Set 7 : warri\n",
      "Processing Record 32 of Set 7 : praia da vitoria\n",
      "Processing Record 33 of Set 7 : tukrah\n",
      "Processing Record 34 of Set 7 : chivay\n",
      "Processing Record 35 of Set 7 : havelock\n",
      "Processing Record 36 of Set 7 : hokitika\n",
      "Processing Record 37 of Set 7 : nava\n",
      "Processing Record 38 of Set 7 : ostersund\n",
      "City not found. Skipping... satitoa\n",
      "Processing Record 39 of Set 7 : talnakh\n",
      "Processing Record 40 of Set 7 : shaowu\n",
      "Processing Record 41 of Set 7 : palauig\n",
      "Processing Record 42 of Set 7 : arlit\n",
      "Processing Record 43 of Set 7 : trincomalee\n",
      "Processing Record 44 of Set 7 : myrtle beach\n",
      "Processing Record 45 of Set 7 : tecali\n",
      "City not found. Skipping... jiddah\n",
      "Processing Record 46 of Set 7 : matara\n",
      "Processing Record 47 of Set 7 : road town\n",
      "Processing Record 48 of Set 7 : anaconda\n",
      "Processing Record 49 of Set 7 : celestun\n",
      "City not found. Skipping... bac can\n",
      "Processing Record 50 of Set 7 : vao\n",
      "Processing Record 0 of Set 8 : chokurdakh\n",
      "Processing Record 1 of Set 8 : naze\n",
      "Processing Record 2 of Set 8 : mpwapwa\n",
      "Processing Record 3 of Set 8 : qianguo\n",
      "Processing Record 4 of Set 8 : thinadhoo\n",
      "Processing Record 5 of Set 8 : vicar\n",
      "Processing Record 6 of Set 8 : lazaro cardenas\n",
      "Processing Record 7 of Set 8 : san pedro\n",
      "Processing Record 8 of Set 8 : lulea\n",
      "Processing Record 9 of Set 8 : itarema\n"
     ]
    },
    {
     "name": "stdout",
     "output_type": "stream",
     "text": [
      "Processing Record 10 of Set 8 : balabac\n",
      "Processing Record 11 of Set 8 : kaa-khem\n",
      "Processing Record 12 of Set 8 : krasnyy chikoy\n",
      "Processing Record 13 of Set 8 : eydhafushi\n",
      "Processing Record 14 of Set 8 : utete\n",
      "Processing Record 15 of Set 8 : floro\n",
      "Processing Record 16 of Set 8 : iquitos\n",
      "Processing Record 17 of Set 8 : evensk\n",
      "Processing Record 18 of Set 8 : north platte\n",
      "City not found. Skipping... daxian\n",
      "Processing Record 19 of Set 8 : ust-kuyga\n",
      "Processing Record 20 of Set 8 : ucluelet\n",
      "Processing Record 21 of Set 8 : bria\n",
      "City not found. Skipping... huazolotitlan\n",
      "Processing Record 22 of Set 8 : yulara\n",
      "Processing Record 23 of Set 8 : aksarka\n",
      "City not found. Skipping... karaul\n",
      "Processing Record 24 of Set 8 : atar\n",
      "Processing Record 25 of Set 8 : kalmunai\n",
      "Processing Record 26 of Set 8 : barranca\n",
      "Processing Record 27 of Set 8 : izhma\n",
      "Processing Record 28 of Set 8 : yeppoon\n",
      "Processing Record 29 of Set 8 : magistralnyy\n",
      "Processing Record 30 of Set 8 : camocim\n",
      "Processing Record 31 of Set 8 : richards bay\n",
      "City not found. Skipping... tidore\n",
      "Processing Record 32 of Set 8 : san cristobal\n",
      "Processing Record 33 of Set 8 : deputatskiy\n",
      "Processing Record 34 of Set 8 : norman wells\n",
      "Processing Record 35 of Set 8 : camacha\n",
      "Processing Record 36 of Set 8 : riberalta\n",
      "Processing Record 37 of Set 8 : quatre cocos\n",
      "City not found. Skipping... halalo\n",
      "Processing Record 38 of Set 8 : yarensk\n",
      "Processing Record 39 of Set 8 : havoysund\n",
      "Processing Record 40 of Set 8 : krasnoselkup\n",
      "Processing Record 41 of Set 8 : kiunga\n",
      "Processing Record 42 of Set 8 : altay\n",
      "Processing Record 43 of Set 8 : kholuy\n",
      "Processing Record 44 of Set 8 : calvinia\n",
      "Processing Record 45 of Set 8 : muana\n",
      "Processing Record 46 of Set 8 : sisimiut\n",
      "Processing Record 47 of Set 8 : saint-joseph\n",
      "Processing Record 48 of Set 8 : ugoofaaru\n",
      "Processing Record 49 of Set 8 : adamas\n",
      "Processing Record 50 of Set 8 : cap malheureux\n",
      "Processing Record 0 of Set 9 : chara\n",
      "City not found. Skipping... riaba\n",
      "Processing Record 1 of Set 9 : kungurtug\n",
      "Processing Record 2 of Set 9 : luanda\n",
      "Processing Record 3 of Set 9 : saldanha\n",
      "Processing Record 4 of Set 9 : ust-karsk\n",
      "Processing Record 5 of Set 9 : isiro\n",
      "Processing Record 6 of Set 9 : makokou\n",
      "City not found. Skipping... himora\n",
      "Processing Record 7 of Set 9 : collie\n",
      "Processing Record 8 of Set 9 : panaba\n",
      "Processing Record 9 of Set 9 : yerbogachen\n",
      "Processing Record 10 of Set 9 : laguna\n",
      "Processing Record 11 of Set 9 : morris\n",
      "Processing Record 12 of Set 9 : malanje\n",
      "Processing Record 13 of Set 9 : the valley\n",
      "Processing Record 14 of Set 9 : crawfordsville\n",
      "Processing Record 15 of Set 9 : port-gentil\n",
      "Processing Record 16 of Set 9 : sambava\n",
      "Processing Record 17 of Set 9 : linxia\n",
      "Processing Record 18 of Set 9 : burnie\n",
      "Processing Record 19 of Set 9 : namatanai\n",
      "Processing Record 20 of Set 9 : mazamet\n",
      "City not found. Skipping... shkotovo-26\n",
      "Processing Record 21 of Set 9 : woodstock\n",
      "Processing Record 22 of Set 9 : sawtell\n",
      "Processing Record 23 of Set 9 : henties bay\n",
      "Processing Record 24 of Set 9 : sioux lookout\n",
      "Processing Record 25 of Set 9 : dasoguz\n",
      "Processing Record 26 of Set 9 : narrabri\n",
      "Processing Record 27 of Set 9 : pacific grove\n",
      "Processing Record 28 of Set 9 : mildura\n",
      "Processing Record 29 of Set 9 : tongren\n",
      "Processing Record 30 of Set 9 : nova olimpia\n",
      "Processing Record 31 of Set 9 : totness\n",
      "Processing Record 32 of Set 9 : narsipatnam\n",
      "Processing Record 33 of Set 9 : itarana\n",
      "Processing Record 34 of Set 9 : garowe\n",
      "Processing Record 35 of Set 9 : piacabucu\n",
      "Processing Record 36 of Set 9 : rundu\n",
      "Processing Record 37 of Set 9 : monrovia\n",
      "Processing Record 38 of Set 9 : olafsvik\n",
      "Processing Record 39 of Set 9 : longyearbyen\n",
      "Processing Record 40 of Set 9 : khandbari\n",
      "City not found. Skipping... dinsor\n",
      "Processing Record 41 of Set 9 : eureka\n",
      "Processing Record 42 of Set 9 : dhidhdhoo\n",
      "Processing Record 43 of Set 9 : belmonte\n",
      "Processing Record 44 of Set 9 : north battleford\n",
      "Processing Record 45 of Set 9 : burns lake\n",
      "Processing Record 46 of Set 9 : consolacion del sur\n",
      "Processing Record 47 of Set 9 : jalu\n",
      "Processing Record 48 of Set 9 : blagoveshchensk\n",
      "Processing Record 49 of Set 9 : sur\n",
      "Processing Record 50 of Set 9 : caravelas\n",
      "Processing Record 0 of Set 10 : totma\n",
      "Processing Record 1 of Set 10 : espinosa\n",
      "Processing Record 2 of Set 10 : saint-georges\n",
      "Processing Record 3 of Set 10 : nome\n",
      "Processing Record 4 of Set 10 : jacareacanga\n",
      "Processing Record 5 of Set 10 : tapah\n",
      "Processing Record 6 of Set 10 : la baule-escoublac\n",
      "Processing Record 7 of Set 10 : abu samrah\n",
      "Processing Record 8 of Set 10 : kariba\n",
      "Processing Record 9 of Set 10 : hovd\n",
      "Processing Record 10 of Set 10 : saint anthony\n",
      "City not found. Skipping... babanusah\n",
      "Processing Record 11 of Set 10 : vila franca do campo\n",
      "Processing Record 12 of Set 10 : kathmandu\n",
      "Processing Record 13 of Set 10 : langham\n",
      "Processing Record 14 of Set 10 : zorgo\n",
      "Processing Record 15 of Set 10 : santa isabel do rio negro\n",
      "Processing Record 16 of Set 10 : taoudenni\n",
      "City not found. Skipping... saint-pacome\n",
      "Processing Record 17 of Set 10 : berlevag\n",
      "Processing Record 18 of Set 10 : la asuncion\n",
      "Processing Record 19 of Set 10 : gunjur\n",
      "Processing Record 20 of Set 10 : curup\n",
      "Processing Record 21 of Set 10 : kavaratti\n",
      "Processing Record 22 of Set 10 : chateaudun\n",
      "Processing Record 23 of Set 10 : tarbes\n",
      "Processing Record 24 of Set 10 : broken hill\n",
      "Processing Record 25 of Set 10 : constitucion\n",
      "City not found. Skipping... alotau\n",
      "Processing Record 26 of Set 10 : moussoro\n",
      "Processing Record 27 of Set 10 : general pico\n",
      "Processing Record 28 of Set 10 : rawah\n",
      "Processing Record 29 of Set 10 : san pedro de macoris\n",
      "Processing Record 30 of Set 10 : comodoro rivadavia\n",
      "Processing Record 31 of Set 10 : kashira\n",
      "Processing Record 32 of Set 10 : herat\n",
      "Processing Record 33 of Set 10 : waingapu\n",
      "Processing Record 34 of Set 10 : tygda\n",
      "Processing Record 35 of Set 10 : valparaiso\n",
      "Processing Record 36 of Set 10 : sison\n",
      "Processing Record 37 of Set 10 : nishihara\n",
      "City not found. Skipping... artyk\n",
      "Processing Record 38 of Set 10 : vallenar\n",
      "Processing Record 39 of Set 10 : kosh-agach\n",
      "Processing Record 40 of Set 10 : lima\n",
      "Processing Record 41 of Set 10 : catamarca\n",
      "Processing Record 42 of Set 10 : indramayu\n",
      "Processing Record 43 of Set 10 : taormina\n",
      "Processing Record 44 of Set 10 : uhlove\n",
      "Processing Record 45 of Set 10 : balkanabat\n",
      "Processing Record 46 of Set 10 : boa vista\n",
      "Processing Record 47 of Set 10 : ahipara\n",
      "Processing Record 48 of Set 10 : pochutla\n",
      "Processing Record 49 of Set 10 : vaitape\n",
      "Processing Record 50 of Set 10 : tongchuan\n",
      "Processing Record 0 of Set 11 : port hedland\n",
      "Processing Record 1 of Set 11 : tilichiki\n",
      "Processing Record 2 of Set 11 : leshukonskoye\n",
      "Processing Record 3 of Set 11 : saint-denis\n",
      "Processing Record 4 of Set 11 : rezh\n",
      "Processing Record 5 of Set 11 : hambantota\n",
      "Processing Record 6 of Set 11 : freeport\n",
      "Processing Record 7 of Set 11 : leninskoye\n",
      "Processing Record 8 of Set 11 : paris\n",
      "Processing Record 9 of Set 11 : brokopondo\n",
      "Processing Record 10 of Set 11 : mattawa\n",
      "Processing Record 11 of Set 11 : jiwani\n",
      "Processing Record 12 of Set 11 : shelopugino\n",
      "Processing Record 13 of Set 11 : sal rei\n",
      "Processing Record 14 of Set 11 : seydisehir\n",
      "Processing Record 15 of Set 11 : kilifi\n",
      "Processing Record 16 of Set 11 : carutapera\n",
      "Processing Record 17 of Set 11 : dicabisagan\n",
      "Processing Record 18 of Set 11 : vestmanna\n",
      "Processing Record 19 of Set 11 : tautira\n",
      "Processing Record 20 of Set 11 : byron bay\n",
      "Processing Record 21 of Set 11 : yatou\n",
      "Processing Record 22 of Set 11 : tarime\n",
      "Processing Record 23 of Set 11 : bubaque\n",
      "City not found. Skipping... kopyevo\n",
      "City not found. Skipping... cape elizabeth\n",
      "Processing Record 24 of Set 11 : leon\n",
      "Processing Record 25 of Set 11 : san juan\n",
      "Processing Record 26 of Set 11 : melo\n",
      "Processing Record 27 of Set 11 : sidney\n",
      "Processing Record 28 of Set 11 : katangli\n",
      "Processing Record 29 of Set 11 : parana\n",
      "Processing Record 30 of Set 11 : walvis bay\n",
      "Processing Record 31 of Set 11 : santa helena\n",
      "Processing Record 32 of Set 11 : kuching\n",
      "City not found. Skipping... marcona\n",
      "Processing Record 33 of Set 11 : harer\n",
      "Processing Record 34 of Set 11 : sarkand\n",
      "Processing Record 35 of Set 11 : canmore\n",
      "Processing Record 36 of Set 11 : udomlya\n",
      "Processing Record 37 of Set 11 : constantine\n",
      "Processing Record 38 of Set 11 : kamenka\n"
     ]
    },
    {
     "name": "stdout",
     "output_type": "stream",
     "text": [
      "Processing Record 39 of Set 11 : ossora\n",
      "Processing Record 40 of Set 11 : lumeje\n",
      "Processing Record 41 of Set 11 : fukue\n",
      "Processing Record 42 of Set 11 : mahibadhoo\n",
      "Processing Record 43 of Set 11 : sao gabriel da cachoeira\n",
      "Processing Record 44 of Set 11 : gornji milanovac\n",
      "Processing Record 45 of Set 11 : ferrol\n",
      "__________________________\n",
      "Data Retrieval Complete \n"
     ]
    }
   ],
   "source": [
    "API_URL_base = \"http://api.openweathermap.org/data/2.5/weather?\"\n",
    "units = \"imperial\"\n",
    "query_url = f\"{API_URL_base}appid={weather_api_key}&units={units}&q=\"\n",
    "\n",
    "#Establish list variables\n",
    "city_name_lst = []\n",
    "cloudiness_lst = []\n",
    "country_lst = []\n",
    "date_lst =[]\n",
    "humidity_lst = []\n",
    "lat_lst =[]\n",
    "lng_lst = []\n",
    "max_temp_lst = []\n",
    "wind_spd_lst = []\n",
    "index_ctr = 0\n",
    "set_ctr = 1\n",
    "\n",
    "print(\"Starting Data Retrieval\")\n",
    "print(\"________________________\")\n",
    "\n",
    "#Loop through data\n",
    "for index, city in enumerate(cities, start = 1):\n",
    "    try:\n",
    "        weather_response = requests.get(query_url + city).json()\n",
    "        city_name_lst.append(weather_response[\"name\"])\n",
    "        cloudiness_lst.append(weather_response[\"clouds\"][\"all\"])\n",
    "        country_lst.append(weather_response[\"sys\"][\"country\"])\n",
    "        date_lst.append(weather_response[\"dt\"])\n",
    "        humidity_lst.append(weather_response[\"main\"][\"humidity\"])\n",
    "        lat_lst.append(weather_response[\"coord\"][\"lat\"])\n",
    "        lng_lst.append(weather_response[\"coord\"][\"lon\"])\n",
    "        max_temp_lst.append(weather_response['main']['temp_max'])\n",
    "        wind_spd_lst.append(weather_response[\"wind\"][\"speed\"])\n",
    "        if index_ctr > 49:\n",
    "            index_ctr = 0\n",
    "            set_ctr = set_ctr + 1\n",
    "    \n",
    "        else:\n",
    "            index_ctr = index_ctr + 1\n",
    "            \n",
    "        print(f\"Processing Record {index_ctr} of Set {set_ctr} : {city}\") \n",
    "  \n",
    "    except(KeyError, IndexError):\n",
    "        print(f\"City not found. Skipping... {city}\")\n",
    "        \n",
    "print(\"__________________________\")\n",
    "print(\"Data Retrieval Complete \")    \n"
   ]
  },
  {
   "cell_type": "markdown",
   "metadata": {},
   "source": [
    "### Convert Raw Data to DataFrame\n",
    "* Export the city data into a .csv.\n",
    "* Display the DataFrame"
   ]
  },
  {
   "cell_type": "code",
   "execution_count": 5,
   "metadata": {},
   "outputs": [
    {
     "data": {
      "text/plain": [
       "City                555\n",
       "Cloudiness          555\n",
       "Country             555\n",
       "Date                555\n",
       "Humidity            555\n",
       "Lat                 555\n",
       "Lng                 555\n",
       "Max Temp (F)        555\n",
       "Wind Speed (mph)    555\n",
       "dtype: int64"
      ]
     },
     "execution_count": 5,
     "metadata": {},
     "output_type": "execute_result"
    }
   ],
   "source": [
    "#Create DataFrame\n",
    "weather_df = pd.DataFrame({\n",
    "    \"City\": city_name_lst,\n",
    "    \"Cloudiness\": cloudiness_lst,\n",
    "    \"Country\":country_lst,\n",
    "    \"Date\":date_lst,\n",
    "    \"Humidity\":humidity_lst,\n",
    "    \"Lat\":lat_lst,\n",
    "    \"Lng\":lng_lst,\n",
    "    \"Max Temp (F)\":max_temp_lst,\n",
    "    \"Wind Speed (mph)\":wind_spd_lst\n",
    "    \n",
    "})\n",
    "\n",
    "weather_df.count()\n"
   ]
  },
  {
   "cell_type": "code",
   "execution_count": 6,
   "metadata": {},
   "outputs": [
    {
     "data": {
      "text/html": [
       "<div>\n",
       "<style scoped>\n",
       "    .dataframe tbody tr th:only-of-type {\n",
       "        vertical-align: middle;\n",
       "    }\n",
       "\n",
       "    .dataframe tbody tr th {\n",
       "        vertical-align: top;\n",
       "    }\n",
       "\n",
       "    .dataframe thead th {\n",
       "        text-align: right;\n",
       "    }\n",
       "</style>\n",
       "<table border=\"1\" class=\"dataframe\">\n",
       "  <thead>\n",
       "    <tr style=\"text-align: right;\">\n",
       "      <th></th>\n",
       "      <th>City</th>\n",
       "      <th>Cloudiness</th>\n",
       "      <th>Country</th>\n",
       "      <th>Date</th>\n",
       "      <th>Humidity</th>\n",
       "      <th>Lat</th>\n",
       "      <th>Lng</th>\n",
       "      <th>Max Temp (F)</th>\n",
       "      <th>Wind Speed (mph)</th>\n",
       "    </tr>\n",
       "  </thead>\n",
       "  <tbody>\n",
       "    <tr>\n",
       "      <th>0</th>\n",
       "      <td>Ilulissat</td>\n",
       "      <td>0</td>\n",
       "      <td>GL</td>\n",
       "      <td>1612929502</td>\n",
       "      <td>45</td>\n",
       "      <td>69.2167</td>\n",
       "      <td>-51.1000</td>\n",
       "      <td>17.60</td>\n",
       "      <td>4.61</td>\n",
       "    </tr>\n",
       "    <tr>\n",
       "      <th>1</th>\n",
       "      <td>Nikolskoye</td>\n",
       "      <td>20</td>\n",
       "      <td>RU</td>\n",
       "      <td>1612929729</td>\n",
       "      <td>77</td>\n",
       "      <td>59.7035</td>\n",
       "      <td>30.7861</td>\n",
       "      <td>1.99</td>\n",
       "      <td>2.24</td>\n",
       "    </tr>\n",
       "    <tr>\n",
       "      <th>2</th>\n",
       "      <td>Atherton</td>\n",
       "      <td>13</td>\n",
       "      <td>GB</td>\n",
       "      <td>1612929721</td>\n",
       "      <td>60</td>\n",
       "      <td>53.5237</td>\n",
       "      <td>-2.4935</td>\n",
       "      <td>30.00</td>\n",
       "      <td>1.99</td>\n",
       "    </tr>\n",
       "    <tr>\n",
       "      <th>3</th>\n",
       "      <td>Butaritari</td>\n",
       "      <td>100</td>\n",
       "      <td>KI</td>\n",
       "      <td>1612929729</td>\n",
       "      <td>82</td>\n",
       "      <td>3.0707</td>\n",
       "      <td>172.7902</td>\n",
       "      <td>81.75</td>\n",
       "      <td>17.43</td>\n",
       "    </tr>\n",
       "    <tr>\n",
       "      <th>4</th>\n",
       "      <td>Punta Arenas</td>\n",
       "      <td>75</td>\n",
       "      <td>CL</td>\n",
       "      <td>1612929696</td>\n",
       "      <td>72</td>\n",
       "      <td>-53.1500</td>\n",
       "      <td>-70.9167</td>\n",
       "      <td>59.00</td>\n",
       "      <td>4.61</td>\n",
       "    </tr>\n",
       "    <tr>\n",
       "      <th>...</th>\n",
       "      <td>...</td>\n",
       "      <td>...</td>\n",
       "      <td>...</td>\n",
       "      <td>...</td>\n",
       "      <td>...</td>\n",
       "      <td>...</td>\n",
       "      <td>...</td>\n",
       "      <td>...</td>\n",
       "      <td>...</td>\n",
       "    </tr>\n",
       "    <tr>\n",
       "      <th>550</th>\n",
       "      <td>Fukuechō</td>\n",
       "      <td>75</td>\n",
       "      <td>JP</td>\n",
       "      <td>1612929816</td>\n",
       "      <td>54</td>\n",
       "      <td>32.6881</td>\n",
       "      <td>128.8419</td>\n",
       "      <td>55.40</td>\n",
       "      <td>8.05</td>\n",
       "    </tr>\n",
       "    <tr>\n",
       "      <th>551</th>\n",
       "      <td>Mahibadhoo</td>\n",
       "      <td>58</td>\n",
       "      <td>MV</td>\n",
       "      <td>1612929667</td>\n",
       "      <td>74</td>\n",
       "      <td>3.7833</td>\n",
       "      <td>72.9667</td>\n",
       "      <td>80.98</td>\n",
       "      <td>13.22</td>\n",
       "    </tr>\n",
       "    <tr>\n",
       "      <th>552</th>\n",
       "      <td>São Gabriel da Cachoeira</td>\n",
       "      <td>100</td>\n",
       "      <td>BR</td>\n",
       "      <td>1612929816</td>\n",
       "      <td>96</td>\n",
       "      <td>-0.1303</td>\n",
       "      <td>-67.0892</td>\n",
       "      <td>74.70</td>\n",
       "      <td>0.22</td>\n",
       "    </tr>\n",
       "    <tr>\n",
       "      <th>553</th>\n",
       "      <td>Gornji Milanovac</td>\n",
       "      <td>0</td>\n",
       "      <td>RS</td>\n",
       "      <td>1612929816</td>\n",
       "      <td>100</td>\n",
       "      <td>44.0333</td>\n",
       "      <td>20.4500</td>\n",
       "      <td>35.60</td>\n",
       "      <td>1.14</td>\n",
       "    </tr>\n",
       "    <tr>\n",
       "      <th>554</th>\n",
       "      <td>Ferrol</td>\n",
       "      <td>62</td>\n",
       "      <td>ES</td>\n",
       "      <td>1612929816</td>\n",
       "      <td>84</td>\n",
       "      <td>43.4832</td>\n",
       "      <td>-8.2369</td>\n",
       "      <td>50.00</td>\n",
       "      <td>5.99</td>\n",
       "    </tr>\n",
       "  </tbody>\n",
       "</table>\n",
       "<p>555 rows × 9 columns</p>\n",
       "</div>"
      ],
      "text/plain": [
       "                         City  Cloudiness Country        Date  Humidity  \\\n",
       "0                   Ilulissat           0      GL  1612929502        45   \n",
       "1                  Nikolskoye          20      RU  1612929729        77   \n",
       "2                    Atherton          13      GB  1612929721        60   \n",
       "3                  Butaritari         100      KI  1612929729        82   \n",
       "4                Punta Arenas          75      CL  1612929696        72   \n",
       "..                        ...         ...     ...         ...       ...   \n",
       "550                  Fukuechō          75      JP  1612929816        54   \n",
       "551                Mahibadhoo          58      MV  1612929667        74   \n",
       "552  São Gabriel da Cachoeira         100      BR  1612929816        96   \n",
       "553          Gornji Milanovac           0      RS  1612929816       100   \n",
       "554                    Ferrol          62      ES  1612929816        84   \n",
       "\n",
       "         Lat       Lng  Max Temp (F)  Wind Speed (mph)  \n",
       "0    69.2167  -51.1000         17.60              4.61  \n",
       "1    59.7035   30.7861          1.99              2.24  \n",
       "2    53.5237   -2.4935         30.00              1.99  \n",
       "3     3.0707  172.7902         81.75             17.43  \n",
       "4   -53.1500  -70.9167         59.00              4.61  \n",
       "..       ...       ...           ...               ...  \n",
       "550  32.6881  128.8419         55.40              8.05  \n",
       "551   3.7833   72.9667         80.98             13.22  \n",
       "552  -0.1303  -67.0892         74.70              0.22  \n",
       "553  44.0333   20.4500         35.60              1.14  \n",
       "554  43.4832   -8.2369         50.00              5.99  \n",
       "\n",
       "[555 rows x 9 columns]"
      ]
     },
     "execution_count": 6,
     "metadata": {},
     "output_type": "execute_result"
    }
   ],
   "source": [
    "#Display DataFrame\n",
    "weather_df\n"
   ]
  },
  {
   "cell_type": "code",
   "execution_count": 7,
   "metadata": {},
   "outputs": [],
   "source": [
    "#Save data into CSV\n",
    "weather_df.to_csv(\"output_data/cities1.csv\", index = False)"
   ]
  },
  {
   "cell_type": "markdown",
   "metadata": {},
   "source": [
    "## Inspect the data and remove the cities where the humidity > 100%.\n",
    "----\n",
    "Skip this step if there are no cities that have humidity > 100%. "
   ]
  },
  {
   "cell_type": "code",
   "execution_count": null,
   "metadata": {},
   "outputs": [],
   "source": []
  },
  {
   "cell_type": "code",
   "execution_count": 8,
   "metadata": {},
   "outputs": [],
   "source": [
    "#  Get the indices of cities that have humidity over 100%.\n"
   ]
  },
  {
   "cell_type": "code",
   "execution_count": 9,
   "metadata": {},
   "outputs": [],
   "source": [
    "# Make a new DataFrame equal to the city data to drop all humidity outliers by index.\n",
    "# Passing \"inplace=False\" will make a copy of the city_data DataFrame, which we call \"clean_city_data\".\n"
   ]
  },
  {
   "cell_type": "code",
   "execution_count": null,
   "metadata": {},
   "outputs": [],
   "source": [
    "\n"
   ]
  },
  {
   "cell_type": "markdown",
   "metadata": {},
   "source": [
    "## Plotting the Data\n",
    "* Use proper labeling of the plots using plot titles (including date of analysis) and axes labels.\n",
    "* Save the plotted figures as .pngs."
   ]
  },
  {
   "cell_type": "markdown",
   "metadata": {},
   "source": [
    "## Latitude vs. Temperature Plot"
   ]
  },
  {
   "cell_type": "code",
   "execution_count": 10,
   "metadata": {
    "scrolled": true
   },
   "outputs": [
    {
     "data": {
      "image/png": "[encoded data removed]",
      "text/plain": [
       "<Figure size 432x288 with 1 Axes>"
      ]
     },
     "metadata": {
      "needs_background": "light"
     },
     "output_type": "display_data"
    }
   ],
   "source": [
    "plt.scatter(weather_df[\"Lat\"], weather_df[\"Max Temp (F)\"], facecolor = \"steelblue\", edgecolor = \"black\")\n",
    "plt.title(\"City Latitude vs. Max Temperature (02/8/21)\")\n",
    "plt.xlabel(\"Latitude\")\n",
    "plt.ylabel(\"Max Temperature (F)\")\n",
    "plt.grid(linestyle='-', linewidth=1, alpha = 0.5)\n"
   ]
  },
  {
   "cell_type": "code",
   "execution_count": 11,
   "metadata": {},
   "outputs": [
    {
     "data": {
      "text/plain": [
       "<Figure size 432x288 with 0 Axes>"
      ]
     },
     "metadata": {},
     "output_type": "display_data"
    }
   ],
   "source": [
    "# Save figure as .png file\n",
    "plt.savefig(\"output_data/City Latitude vs Max Temperature.png\")"
   ]
  },
  {
   "cell_type": "markdown",
   "metadata": {},
   "source": [
    "## Latitude vs. Humidity Plot"
   ]
  },
  {
   "cell_type": "code",
   "execution_count": 12,
   "metadata": {
    "scrolled": true
   },
   "outputs": [
    {
     "data": {
      "image/png": "[encoded data removed]",
      "text/plain": [
       "<Figure size 432x288 with 1 Axes>"
      ]
     },
     "metadata": {
      "needs_background": "light"
     },
     "output_type": "display_data"
    }
   ],
   "source": [
    "plt.scatter(weather_df[\"Lat\"], weather_df[\"Humidity\"], facecolor = \"steelblue\", edgecolor = \"black\")\n",
    "plt.title(\"City Latitude vs. Humidity (02/8/21)\")\n",
    "plt.xlabel(\"Latitude\")\n",
    "plt.ylabel(\"Humidity (%)\")\n",
    "plt.grid(linestyle='-', linewidth=1, alpha = 0.5)\n"
   ]
  },
  {
   "cell_type": "code",
   "execution_count": 13,
   "metadata": {},
   "outputs": [
    {
     "data": {
      "text/plain": [
       "<Figure size 432x288 with 0 Axes>"
      ]
     },
     "metadata": {},
     "output_type": "display_data"
    }
   ],
   "source": [
    "# Save figure as .png file\n",
    "plt.savefig(\"output_data/City Latitude vs Humidity.png\")"
   ]
  },
  {
   "cell_type": "markdown",
   "metadata": {},
   "source": [
    "## Latitude vs. Cloudiness Plot"
   ]
  },
  {
   "cell_type": "code",
   "execution_count": 14,
   "metadata": {},
   "outputs": [
    {
     "data": {
      "image/png": "[encoded data removed]",
      "text/plain": [
       "<Figure size 432x288 with 1 Axes>"
      ]
     },
     "metadata": {
      "needs_background": "light"
     },
     "output_type": "display_data"
    }
   ],
   "source": [
    "plt.scatter(weather_df[\"Lat\"], weather_df[\"Cloudiness\"], facecolor = \"steelblue\", edgecolor = \"black\")\n",
    "plt.title(\"City Latitude vs. Cloudiness (02/8/21)\")\n",
    "plt.xlabel(\"Latitude\")\n",
    "plt.ylabel(\"Cloudiness (%)\")\n",
    "plt.grid(linestyle='-', linewidth=1, alpha = 0.5)"
   ]
  },
  {
   "cell_type": "code",
   "execution_count": 15,
   "metadata": {},
   "outputs": [
    {
     "data": {
      "text/plain": [
       "<Figure size 432x288 with 0 Axes>"
      ]
     },
     "metadata": {},
     "output_type": "display_data"
    }
   ],
   "source": [
    "# Save figure as .png file\n",
    "plt.savefig(\"output_data/City Latitude vs Cloudiness.png\")"
   ]
  },
  {
   "cell_type": "markdown",
   "metadata": {},
   "source": [
    "## Latitude vs. Wind Speed Plot"
   ]
  },
  {
   "cell_type": "code",
   "execution_count": 16,
   "metadata": {
    "scrolled": true
   },
   "outputs": [
    {
     "data": {
      "image/png": "[encoded data removed]",
      "text/plain": [
       "<Figure size 432x288 with 1 Axes>"
      ]
     },
     "metadata": {
      "needs_background": "light"
     },
     "output_type": "display_data"
    }
   ],
   "source": [
    "plt.scatter(weather_df[\"Lat\"], weather_df[\"Wind Speed (mph)\"], facecolor = \"steelblue\", edgecolor = \"black\")\n",
    "plt.title(\"City Latitude vs. Wind Speed (mph)\")\n",
    "plt.xlabel(\"Latitude\")\n",
    "plt.ylabel(\"Wind Speed (mph)\")\n",
    "plt.grid(linestyle='-', linewidth=1, alpha = 0.5)"
   ]
  },
  {
   "cell_type": "code",
   "execution_count": 17,
   "metadata": {},
   "outputs": [
    {
     "data": {
      "text/plain": [
       "<Figure size 432x288 with 0 Axes>"
      ]
     },
     "metadata": {},
     "output_type": "display_data"
    }
   ],
   "source": [
    "# Save figure as .png file\n",
    "plt.savefig(\"output_data/City Latitude vs Wind Speed.png\")"
   ]
  },
  {
   "cell_type": "markdown",
   "metadata": {},
   "source": [
    "## Linear Regression"
   ]
  },
  {
   "cell_type": "code",
   "execution_count": 18,
   "metadata": {},
   "outputs": [],
   "source": [
    "#separate the plots into Northern Hemisphere (greater than or equal to 0 degrees latitude) and Southern Hemisphere (less than 0 degrees latitude)\n",
    "north_hemi = weather_df.loc[weather_df[\"Lat\"] >= 0]\n",
    "south_hemi = weather_df.loc[weather_df[\"Lat\"] < 0]"
   ]
  },
  {
   "cell_type": "markdown",
   "metadata": {},
   "source": [
    "####  Northern Hemisphere - Max Temp vs. Latitude Linear Regression"
   ]
  },
  {
   "cell_type": "code",
   "execution_count": 24,
   "metadata": {},
   "outputs": [
    {
     "name": "stdout",
     "output_type": "stream",
     "text": [
      "Regression line equation is: y = -1.44x + 93.52\n",
      "The r-squared is: -0.8885103601206907\n",
      "The regression reflects a negative correlation.\n",
      "The temprature decreases in the northern hemisphere as you move away from the equator.\n"
     ]
    },
    {
     "data": {
      "image/png": "[encoded data removed]",
      "text/plain": [
       "<Figure size 432x288 with 1 Axes>"
      ]
     },
     "metadata": {
      "needs_background": "light"
     },
     "output_type": "display_data"
    }
   ],
   "source": [
    "x_val = pd.to_numeric(north_hemi[\"Lat\"]).astype(float)\n",
    "y_val = pd.to_numeric(north_hemi[\"Max Temp (F)\"]).astype(float)\n",
    "\n",
    "(slope, intercept, rvalue, pvalue, stderr) = linregress(x_val, y_val)\n",
    "regress_values = x_val * slope + intercept\n",
    "line_eq = \"y = \" + str(round(slope,2)) + \"x + \" + str(round(intercept,2))\n",
    "\n",
    "print(f\"Regression line equation is: {line_eq}\")\n",
    "\n",
    "plt.scatter(x_val,y_val)\n",
    "plt.plot(x_val,regress_values,\"r-\")\n",
    "plt.annotate(line_eq,(6,10),fontsize=15,color=\"red\")\n",
    "plt.xlabel('Latitude')\n",
    "plt.ylabel('Max Temperature (F)')\n",
    "plt.title('Northern Hemisphere - Max Temp vs. Latitude Linear Regression')\n",
    "print(f\"The r-squared is: {rvalue}\")\n",
    "print(\"The regression reflects a negative correlation.\")\n",
    "print(\"The temprature decreases in the northern hemisphere as you move away from the equator.\")\n",
    "plt.show()"
   ]
  },
  {
   "cell_type": "markdown",
   "metadata": {},
   "source": [
    "####  Southern Hemisphere - Max Temp vs. Latitude Linear Regression"
   ]
  },
  {
   "cell_type": "code",
   "execution_count": null,
   "metadata": {},
   "outputs": [],
   "source": []
  },
  {
   "cell_type": "markdown",
   "metadata": {},
   "source": [
    "####  Northern Hemisphere - Humidity (%) vs. Latitude Linear Regression"
   ]
  },
  {
   "cell_type": "code",
   "execution_count": null,
   "metadata": {},
   "outputs": [],
   "source": []
  },
  {
   "cell_type": "markdown",
   "metadata": {},
   "source": [
    "####  Southern Hemisphere - Humidity (%) vs. Latitude Linear Regression"
   ]
  },
  {
   "cell_type": "code",
   "execution_count": null,
   "metadata": {},
   "outputs": [],
   "source": []
  },
  {
   "cell_type": "markdown",
   "metadata": {},
   "source": [
    "####  Northern Hemisphere - Cloudiness (%) vs. Latitude Linear Regression"
   ]
  },
  {
   "cell_type": "code",
   "execution_count": null,
   "metadata": {},
   "outputs": [],
   "source": []
  },
  {
   "cell_type": "markdown",
   "metadata": {},
   "source": [
    "####  Southern Hemisphere - Cloudiness (%) vs. Latitude Linear Regression"
   ]
  },
  {
   "cell_type": "code",
   "execution_count": null,
   "metadata": {},
   "outputs": [],
   "source": []
  },
  {
   "cell_type": "markdown",
   "metadata": {},
   "source": [
    "####  Northern Hemisphere - Wind Speed (mph) vs. Latitude Linear Regression"
   ]
  },
  {
   "cell_type": "code",
   "execution_count": null,
   "metadata": {},
   "outputs": [],
   "source": []
  },
  {
   "cell_type": "markdown",
   "metadata": {},
   "source": [
    "####  Southern Hemisphere - Wind Speed (mph) vs. Latitude Linear Regression"
   ]
  },
  {
   "cell_type": "code",
   "execution_count": null,
   "metadata": {},
   "outputs": [],
   "source": []
  },
  {
   "cell_type": "code",
   "execution_count": null,
   "metadata": {},
   "outputs": [],
   "source": []
  },
  {
   "cell_type": "code",
   "execution_count": null,
   "metadata": {},
   "outputs": [],
   "source": []
  }
 ],
 "metadata": {
  "anaconda-cloud": {},
  "kernel_info": {
   "name": "python3"
  },
  "kernelspec": {
   "display_name": "Python [conda env:pythonData] *",
   "language": "python",
   "name": "conda-env-pythonData-py"
  },
  "language_info": {
   "codemirror_mode": {
    "name": "ipython",
    "version": 3
   },
   "file_extension": ".py",
   "mimetype": "text/x-python",
   "name": "python",
   "nbconvert_exporter": "python",
   "pygments_lexer": "ipython3",
   "version": "3.6.10"
  },
  "latex_envs": {
   "LaTeX_envs_menu_present": true,
   "autoclose": false,
   "autocomplete": true,
   "bibliofile": "biblio.bib",
   "cite_by": "apalike",
   "current_citInitial": 1,
   "eqLabelWithNumbers": true,
   "eqNumInitial": 1,
   "hotkeys": {
    "equation": "Ctrl-E",
    "itemize": "Ctrl-I"
   },
   "labels_anchors": false,
   "latex_user_defs": false,
   "report_style_numbering": false,
   "user_envs_cfg": false
  },
  "nteract": {
   "version": "0.12.3"
  }
 },
 "nbformat": 4,
 "nbformat_minor": 2
}
